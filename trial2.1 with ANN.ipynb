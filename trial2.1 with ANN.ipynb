{
 "cells": [
  {
   "cell_type": "markdown",
   "id": "b9a4bd34",
   "metadata": {},
   "source": [
    "# Loan Prediction of Classifier and Regressor with ANN"
   ]
  },
  {
   "cell_type": "code",
   "execution_count": 1,
   "id": "b15fd02e",
   "metadata": {},
   "outputs": [],
   "source": [
    "import pandas as pd\n",
    "A = pd.read_csv(\"/Users/user/Desktop/python/datasets/training_set.csv\")\n"
   ]
  },
  {
   "cell_type": "code",
   "execution_count": 2,
   "id": "05371f0b",
   "metadata": {},
   "outputs": [
    {
     "data": {
      "text/html": [
       "<div>\n",
       "<style scoped>\n",
       "    .dataframe tbody tr th:only-of-type {\n",
       "        vertical-align: middle;\n",
       "    }\n",
       "\n",
       "    .dataframe tbody tr th {\n",
       "        vertical-align: top;\n",
       "    }\n",
       "\n",
       "    .dataframe thead th {\n",
       "        text-align: right;\n",
       "    }\n",
       "</style>\n",
       "<table border=\"1\" class=\"dataframe\">\n",
       "  <thead>\n",
       "    <tr style=\"text-align: right;\">\n",
       "      <th></th>\n",
       "      <th>Loan_ID</th>\n",
       "      <th>Gender</th>\n",
       "      <th>Married</th>\n",
       "      <th>Dependents</th>\n",
       "      <th>Education</th>\n",
       "      <th>Self_Employed</th>\n",
       "      <th>ApplicantIncome</th>\n",
       "      <th>CoapplicantIncome</th>\n",
       "      <th>LoanAmount</th>\n",
       "      <th>Loan_Amount_Term</th>\n",
       "      <th>Credit_History</th>\n",
       "      <th>Property_Area</th>\n",
       "      <th>Loan_Status</th>\n",
       "    </tr>\n",
       "  </thead>\n",
       "  <tbody>\n",
       "    <tr>\n",
       "      <th>0</th>\n",
       "      <td>LP001002</td>\n",
       "      <td>Male</td>\n",
       "      <td>No</td>\n",
       "      <td>0</td>\n",
       "      <td>Graduate</td>\n",
       "      <td>No</td>\n",
       "      <td>5849.0</td>\n",
       "      <td>0.0</td>\n",
       "      <td>NaN</td>\n",
       "      <td>360.0</td>\n",
       "      <td>1.0</td>\n",
       "      <td>Urban</td>\n",
       "      <td>Y</td>\n",
       "    </tr>\n",
       "    <tr>\n",
       "      <th>1</th>\n",
       "      <td>LP001003</td>\n",
       "      <td>Male</td>\n",
       "      <td>Yes</td>\n",
       "      <td>1</td>\n",
       "      <td>Graduate</td>\n",
       "      <td>No</td>\n",
       "      <td>NaN</td>\n",
       "      <td>1508.0</td>\n",
       "      <td>128.0</td>\n",
       "      <td>360.0</td>\n",
       "      <td>1.0</td>\n",
       "      <td>Rural</td>\n",
       "      <td>N</td>\n",
       "    </tr>\n",
       "    <tr>\n",
       "      <th>2</th>\n",
       "      <td>LP001005</td>\n",
       "      <td>Male</td>\n",
       "      <td>Yes</td>\n",
       "      <td>0</td>\n",
       "      <td>Graduate</td>\n",
       "      <td>Yes</td>\n",
       "      <td>3000.0</td>\n",
       "      <td>0.0</td>\n",
       "      <td>66.0</td>\n",
       "      <td>360.0</td>\n",
       "      <td>1.0</td>\n",
       "      <td>Urban</td>\n",
       "      <td>Y</td>\n",
       "    </tr>\n",
       "    <tr>\n",
       "      <th>3</th>\n",
       "      <td>LP001006</td>\n",
       "      <td>Male</td>\n",
       "      <td>Yes</td>\n",
       "      <td>0</td>\n",
       "      <td>Not Graduate</td>\n",
       "      <td>No</td>\n",
       "      <td>2583.0</td>\n",
       "      <td>2358.0</td>\n",
       "      <td>120.0</td>\n",
       "      <td>360.0</td>\n",
       "      <td>1.0</td>\n",
       "      <td>Urban</td>\n",
       "      <td>Y</td>\n",
       "    </tr>\n",
       "    <tr>\n",
       "      <th>4</th>\n",
       "      <td>LP001008</td>\n",
       "      <td>Male</td>\n",
       "      <td>No</td>\n",
       "      <td>0</td>\n",
       "      <td>Graduate</td>\n",
       "      <td>No</td>\n",
       "      <td>6000.0</td>\n",
       "      <td>0.0</td>\n",
       "      <td>141.0</td>\n",
       "      <td>360.0</td>\n",
       "      <td>1.0</td>\n",
       "      <td>Urban</td>\n",
       "      <td>Y</td>\n",
       "    </tr>\n",
       "  </tbody>\n",
       "</table>\n",
       "</div>"
      ],
      "text/plain": [
       "    Loan_ID Gender Married Dependents     Education Self_Employed  \\\n",
       "0  LP001002   Male      No          0      Graduate            No   \n",
       "1  LP001003   Male     Yes          1      Graduate            No   \n",
       "2  LP001005   Male     Yes          0      Graduate           Yes   \n",
       "3  LP001006   Male     Yes          0  Not Graduate            No   \n",
       "4  LP001008   Male      No          0      Graduate            No   \n",
       "\n",
       "   ApplicantIncome  CoapplicantIncome  LoanAmount  Loan_Amount_Term  \\\n",
       "0           5849.0                0.0         NaN             360.0   \n",
       "1              NaN             1508.0       128.0             360.0   \n",
       "2           3000.0                0.0        66.0             360.0   \n",
       "3           2583.0             2358.0       120.0             360.0   \n",
       "4           6000.0                0.0       141.0             360.0   \n",
       "\n",
       "   Credit_History Property_Area Loan_Status  \n",
       "0             1.0         Urban           Y  \n",
       "1             1.0         Rural           N  \n",
       "2             1.0         Urban           Y  \n",
       "3             1.0         Urban           Y  \n",
       "4             1.0         Urban           Y  "
      ]
     },
     "execution_count": 2,
     "metadata": {},
     "output_type": "execute_result"
    }
   ],
   "source": [
    "A.head()"
   ]
  },
  {
   "cell_type": "code",
   "execution_count": 3,
   "id": "19ed2b70",
   "metadata": {},
   "outputs": [
    {
     "data": {
      "text/plain": [
       "(614, 13)"
      ]
     },
     "execution_count": 3,
     "metadata": {},
     "output_type": "execute_result"
    }
   ],
   "source": [
    "A.shape"
   ]
  },
  {
   "cell_type": "markdown",
   "id": "559d2dbd",
   "metadata": {},
   "source": [
    "# Inspect Missing Data"
   ]
  },
  {
   "cell_type": "code",
   "execution_count": 4,
   "id": "07e3fc0c",
   "metadata": {},
   "outputs": [
    {
     "data": {
      "text/plain": [
       "Loan_ID               0\n",
       "Gender               15\n",
       "Married               3\n",
       "Dependents           15\n",
       "Education             1\n",
       "Self_Employed        32\n",
       "ApplicantIncome       2\n",
       "CoapplicantIncome     1\n",
       "LoanAmount           22\n",
       "Loan_Amount_Term     14\n",
       "Credit_History       50\n",
       "Property_Area         0\n",
       "Loan_Status           0\n",
       "dtype: int64"
      ]
     },
     "execution_count": 4,
     "metadata": {},
     "output_type": "execute_result"
    }
   ],
   "source": [
    "A.isna().sum()"
   ]
  },
  {
   "cell_type": "code",
   "execution_count": 5,
   "id": "f139228c",
   "metadata": {},
   "outputs": [
    {
     "name": "stdout",
     "output_type": "stream",
     "text": [
      "<class 'pandas.core.frame.DataFrame'>\n",
      "RangeIndex: 614 entries, 0 to 613\n",
      "Data columns (total 13 columns):\n",
      " #   Column             Non-Null Count  Dtype  \n",
      "---  ------             --------------  -----  \n",
      " 0   Loan_ID            614 non-null    object \n",
      " 1   Gender             599 non-null    object \n",
      " 2   Married            611 non-null    object \n",
      " 3   Dependents         599 non-null    object \n",
      " 4   Education          613 non-null    object \n",
      " 5   Self_Employed      582 non-null    object \n",
      " 6   ApplicantIncome    612 non-null    float64\n",
      " 7   CoapplicantIncome  613 non-null    float64\n",
      " 8   LoanAmount         592 non-null    float64\n",
      " 9   Loan_Amount_Term   600 non-null    float64\n",
      " 10  Credit_History     564 non-null    float64\n",
      " 11  Property_Area      614 non-null    object \n",
      " 12  Loan_Status        614 non-null    object \n",
      "dtypes: float64(5), object(8)\n",
      "memory usage: 62.5+ KB\n"
     ]
    }
   ],
   "source": [
    "A.info()"
   ]
  },
  {
   "cell_type": "code",
   "execution_count": 6,
   "id": "9b970130",
   "metadata": {},
   "outputs": [],
   "source": [
    "from ANN_modules import catconsep, replacer, preprocessing"
   ]
  },
  {
   "cell_type": "markdown",
   "id": "88254565",
   "metadata": {},
   "source": [
    "# Define X and Y"
   ]
  },
  {
   "cell_type": "code",
   "execution_count": 7,
   "id": "9f8e9fff",
   "metadata": {},
   "outputs": [],
   "source": [
    "Y = A[[\"Loan_Status\"]]\n",
    "X = A.drop(['Loan_ID', \"Loan_Status\"], axis = 1)"
   ]
  },
  {
   "cell_type": "markdown",
   "id": "8e0f98f5",
   "metadata": {},
   "source": [
    "# Convert Y in LabelEnconder Format"
   ]
  },
  {
   "cell_type": "code",
   "execution_count": 8,
   "id": "f562f8da",
   "metadata": {},
   "outputs": [],
   "source": [
    "from warnings import filterwarnings\n",
    "filterwarnings(\"ignore\")\n",
    "from sklearn.preprocessing import LabelEncoder\n",
    "le = LabelEncoder()\n",
    "Y1 = pd.DataFrame(le.fit_transform(Y), columns=[\"Loan_Status\"])"
   ]
  },
  {
   "cell_type": "code",
   "execution_count": 9,
   "id": "ad03171c",
   "metadata": {},
   "outputs": [
    {
     "data": {
      "text/html": [
       "<div>\n",
       "<style scoped>\n",
       "    .dataframe tbody tr th:only-of-type {\n",
       "        vertical-align: middle;\n",
       "    }\n",
       "\n",
       "    .dataframe tbody tr th {\n",
       "        vertical-align: top;\n",
       "    }\n",
       "\n",
       "    .dataframe thead th {\n",
       "        text-align: right;\n",
       "    }\n",
       "</style>\n",
       "<table border=\"1\" class=\"dataframe\">\n",
       "  <thead>\n",
       "    <tr style=\"text-align: right;\">\n",
       "      <th></th>\n",
       "      <th>Loan_Status</th>\n",
       "    </tr>\n",
       "  </thead>\n",
       "  <tbody>\n",
       "    <tr>\n",
       "      <th>0</th>\n",
       "      <td>1</td>\n",
       "    </tr>\n",
       "    <tr>\n",
       "      <th>1</th>\n",
       "      <td>0</td>\n",
       "    </tr>\n",
       "    <tr>\n",
       "      <th>2</th>\n",
       "      <td>1</td>\n",
       "    </tr>\n",
       "    <tr>\n",
       "      <th>3</th>\n",
       "      <td>1</td>\n",
       "    </tr>\n",
       "    <tr>\n",
       "      <th>4</th>\n",
       "      <td>1</td>\n",
       "    </tr>\n",
       "    <tr>\n",
       "      <th>...</th>\n",
       "      <td>...</td>\n",
       "    </tr>\n",
       "    <tr>\n",
       "      <th>609</th>\n",
       "      <td>1</td>\n",
       "    </tr>\n",
       "    <tr>\n",
       "      <th>610</th>\n",
       "      <td>1</td>\n",
       "    </tr>\n",
       "    <tr>\n",
       "      <th>611</th>\n",
       "      <td>1</td>\n",
       "    </tr>\n",
       "    <tr>\n",
       "      <th>612</th>\n",
       "      <td>1</td>\n",
       "    </tr>\n",
       "    <tr>\n",
       "      <th>613</th>\n",
       "      <td>0</td>\n",
       "    </tr>\n",
       "  </tbody>\n",
       "</table>\n",
       "<p>614 rows × 1 columns</p>\n",
       "</div>"
      ],
      "text/plain": [
       "     Loan_Status\n",
       "0              1\n",
       "1              0\n",
       "2              1\n",
       "3              1\n",
       "4              1\n",
       "..           ...\n",
       "609            1\n",
       "610            1\n",
       "611            1\n",
       "612            1\n",
       "613            0\n",
       "\n",
       "[614 rows x 1 columns]"
      ]
     },
     "execution_count": 9,
     "metadata": {},
     "output_type": "execute_result"
    }
   ],
   "source": [
    "Y1"
   ]
  },
  {
   "cell_type": "code",
   "execution_count": 10,
   "id": "8c1eca5f",
   "metadata": {},
   "outputs": [],
   "source": [
    "cat, con = catconsep(X)"
   ]
  },
  {
   "cell_type": "code",
   "execution_count": 11,
   "id": "ed2f040b",
   "metadata": {},
   "outputs": [
    {
     "data": {
      "text/plain": [
       "['Gender',\n",
       " 'Married',\n",
       " 'Dependents',\n",
       " 'Education',\n",
       " 'Self_Employed',\n",
       " 'Property_Area']"
      ]
     },
     "execution_count": 11,
     "metadata": {},
     "output_type": "execute_result"
    }
   ],
   "source": [
    "cat"
   ]
  },
  {
   "cell_type": "code",
   "execution_count": 12,
   "id": "0e19dbdc",
   "metadata": {},
   "outputs": [
    {
     "data": {
      "text/plain": [
       "['ApplicantIncome',\n",
       " 'CoapplicantIncome',\n",
       " 'LoanAmount',\n",
       " 'Loan_Amount_Term',\n",
       " 'Credit_History']"
      ]
     },
     "execution_count": 12,
     "metadata": {},
     "output_type": "execute_result"
    }
   ],
   "source": [
    "con"
   ]
  },
  {
   "cell_type": "markdown",
   "id": "846d05a9",
   "metadata": {},
   "source": [
    "# Preprocessing(Missing data treatment, Standardization, OHE)"
   ]
  },
  {
   "cell_type": "code",
   "execution_count": 13,
   "id": "d3f1acab",
   "metadata": {},
   "outputs": [],
   "source": [
    "replacer(X)"
   ]
  },
  {
   "cell_type": "code",
   "execution_count": 14,
   "id": "89fd745a",
   "metadata": {},
   "outputs": [
    {
     "data": {
      "text/plain": [
       "Gender               0\n",
       "Married              0\n",
       "Dependents           0\n",
       "Education            0\n",
       "Self_Employed        0\n",
       "ApplicantIncome      0\n",
       "CoapplicantIncome    0\n",
       "LoanAmount           0\n",
       "Loan_Amount_Term     0\n",
       "Credit_History       0\n",
       "Property_Area        0\n",
       "dtype: int64"
      ]
     },
     "execution_count": 14,
     "metadata": {},
     "output_type": "execute_result"
    }
   ],
   "source": [
    "X.isna().sum()"
   ]
  },
  {
   "cell_type": "code",
   "execution_count": 15,
   "id": "af660588",
   "metadata": {},
   "outputs": [],
   "source": [
    "X1 = preprocessing(X)"
   ]
  },
  {
   "cell_type": "code",
   "execution_count": 16,
   "id": "848b0bbd",
   "metadata": {},
   "outputs": [
    {
     "data": {
      "text/html": [
       "<div>\n",
       "<style scoped>\n",
       "    .dataframe tbody tr th:only-of-type {\n",
       "        vertical-align: middle;\n",
       "    }\n",
       "\n",
       "    .dataframe tbody tr th {\n",
       "        vertical-align: top;\n",
       "    }\n",
       "\n",
       "    .dataframe thead th {\n",
       "        text-align: right;\n",
       "    }\n",
       "</style>\n",
       "<table border=\"1\" class=\"dataframe\">\n",
       "  <thead>\n",
       "    <tr style=\"text-align: right;\">\n",
       "      <th></th>\n",
       "      <th>ApplicantIncome</th>\n",
       "      <th>CoapplicantIncome</th>\n",
       "      <th>LoanAmount</th>\n",
       "      <th>Loan_Amount_Term</th>\n",
       "      <th>Credit_History</th>\n",
       "      <th>Gender_Female</th>\n",
       "      <th>Gender_Male</th>\n",
       "      <th>Married_No</th>\n",
       "      <th>Married_Yes</th>\n",
       "      <th>Dependents_0</th>\n",
       "      <th>Dependents_1</th>\n",
       "      <th>Dependents_2</th>\n",
       "      <th>Dependents_3+</th>\n",
       "      <th>Education_Graduate</th>\n",
       "      <th>Education_Not Graduate</th>\n",
       "      <th>Self_Employed_No</th>\n",
       "      <th>Self_Employed_Yes</th>\n",
       "      <th>Property_Area_Rural</th>\n",
       "      <th>Property_Area_Semiurban</th>\n",
       "      <th>Property_Area_Urban</th>\n",
       "    </tr>\n",
       "  </thead>\n",
       "  <tbody>\n",
       "    <tr>\n",
       "      <th>0</th>\n",
       "      <td>7.265121e-02</td>\n",
       "      <td>-0.554368</td>\n",
       "      <td>-0.000025</td>\n",
       "      <td>0.279851</td>\n",
       "      <td>0.452152</td>\n",
       "      <td>0</td>\n",
       "      <td>1</td>\n",
       "      <td>1</td>\n",
       "      <td>0</td>\n",
       "      <td>1</td>\n",
       "      <td>0</td>\n",
       "      <td>0</td>\n",
       "      <td>0</td>\n",
       "      <td>1</td>\n",
       "      <td>0</td>\n",
       "      <td>1</td>\n",
       "      <td>0</td>\n",
       "      <td>0</td>\n",
       "      <td>0</td>\n",
       "      <td>1</td>\n",
       "    </tr>\n",
       "    <tr>\n",
       "      <th>1</th>\n",
       "      <td>-1.387472e-07</td>\n",
       "      <td>-0.038610</td>\n",
       "      <td>-0.219272</td>\n",
       "      <td>0.279851</td>\n",
       "      <td>0.452152</td>\n",
       "      <td>0</td>\n",
       "      <td>1</td>\n",
       "      <td>0</td>\n",
       "      <td>1</td>\n",
       "      <td>0</td>\n",
       "      <td>1</td>\n",
       "      <td>0</td>\n",
       "      <td>0</td>\n",
       "      <td>1</td>\n",
       "      <td>0</td>\n",
       "      <td>1</td>\n",
       "      <td>0</td>\n",
       "      <td>1</td>\n",
       "      <td>0</td>\n",
       "      <td>0</td>\n",
       "    </tr>\n",
       "    <tr>\n",
       "      <th>2</th>\n",
       "      <td>-3.940959e-01</td>\n",
       "      <td>-0.554368</td>\n",
       "      <td>-0.957640</td>\n",
       "      <td>0.279851</td>\n",
       "      <td>0.452152</td>\n",
       "      <td>0</td>\n",
       "      <td>1</td>\n",
       "      <td>0</td>\n",
       "      <td>1</td>\n",
       "      <td>1</td>\n",
       "      <td>0</td>\n",
       "      <td>0</td>\n",
       "      <td>0</td>\n",
       "      <td>1</td>\n",
       "      <td>0</td>\n",
       "      <td>0</td>\n",
       "      <td>1</td>\n",
       "      <td>0</td>\n",
       "      <td>0</td>\n",
       "      <td>1</td>\n",
       "    </tr>\n",
       "    <tr>\n",
       "      <th>3</th>\n",
       "      <td>-4.624124e-01</td>\n",
       "      <td>0.252103</td>\n",
       "      <td>-0.314546</td>\n",
       "      <td>0.279851</td>\n",
       "      <td>0.452152</td>\n",
       "      <td>0</td>\n",
       "      <td>1</td>\n",
       "      <td>0</td>\n",
       "      <td>1</td>\n",
       "      <td>1</td>\n",
       "      <td>0</td>\n",
       "      <td>0</td>\n",
       "      <td>0</td>\n",
       "      <td>0</td>\n",
       "      <td>1</td>\n",
       "      <td>1</td>\n",
       "      <td>0</td>\n",
       "      <td>0</td>\n",
       "      <td>0</td>\n",
       "      <td>1</td>\n",
       "    </tr>\n",
       "    <tr>\n",
       "      <th>4</th>\n",
       "      <td>9.738930e-02</td>\n",
       "      <td>-0.554368</td>\n",
       "      <td>-0.064453</td>\n",
       "      <td>0.279851</td>\n",
       "      <td>0.452152</td>\n",
       "      <td>0</td>\n",
       "      <td>1</td>\n",
       "      <td>1</td>\n",
       "      <td>0</td>\n",
       "      <td>1</td>\n",
       "      <td>0</td>\n",
       "      <td>0</td>\n",
       "      <td>0</td>\n",
       "      <td>1</td>\n",
       "      <td>0</td>\n",
       "      <td>1</td>\n",
       "      <td>0</td>\n",
       "      <td>0</td>\n",
       "      <td>0</td>\n",
       "      <td>1</td>\n",
       "    </tr>\n",
       "  </tbody>\n",
       "</table>\n",
       "</div>"
      ],
      "text/plain": [
       "   ApplicantIncome  CoapplicantIncome  LoanAmount  Loan_Amount_Term  \\\n",
       "0     7.265121e-02          -0.554368   -0.000025          0.279851   \n",
       "1    -1.387472e-07          -0.038610   -0.219272          0.279851   \n",
       "2    -3.940959e-01          -0.554368   -0.957640          0.279851   \n",
       "3    -4.624124e-01           0.252103   -0.314546          0.279851   \n",
       "4     9.738930e-02          -0.554368   -0.064453          0.279851   \n",
       "\n",
       "   Credit_History  Gender_Female  Gender_Male  Married_No  Married_Yes  \\\n",
       "0        0.452152              0            1           1            0   \n",
       "1        0.452152              0            1           0            1   \n",
       "2        0.452152              0            1           0            1   \n",
       "3        0.452152              0            1           0            1   \n",
       "4        0.452152              0            1           1            0   \n",
       "\n",
       "   Dependents_0  Dependents_1  Dependents_2  Dependents_3+  \\\n",
       "0             1             0             0              0   \n",
       "1             0             1             0              0   \n",
       "2             1             0             0              0   \n",
       "3             1             0             0              0   \n",
       "4             1             0             0              0   \n",
       "\n",
       "   Education_Graduate  Education_Not Graduate  Self_Employed_No  \\\n",
       "0                   1                       0                 1   \n",
       "1                   1                       0                 1   \n",
       "2                   1                       0                 0   \n",
       "3                   0                       1                 1   \n",
       "4                   1                       0                 1   \n",
       "\n",
       "   Self_Employed_Yes  Property_Area_Rural  Property_Area_Semiurban  \\\n",
       "0                  0                    0                        0   \n",
       "1                  0                    1                        0   \n",
       "2                  1                    0                        0   \n",
       "3                  0                    0                        0   \n",
       "4                  0                    0                        0   \n",
       "\n",
       "   Property_Area_Urban  \n",
       "0                    1  \n",
       "1                    0  \n",
       "2                    1  \n",
       "3                    1  \n",
       "4                    1  "
      ]
     },
     "execution_count": 16,
     "metadata": {},
     "output_type": "execute_result"
    }
   ],
   "source": [
    "X1.head()"
   ]
  },
  {
   "cell_type": "markdown",
   "id": "1df1ccd1",
   "metadata": {},
   "source": [
    "# Create a Neural Network"
   ]
  },
  {
   "cell_type": "code",
   "execution_count": 17,
   "id": "30b3782c",
   "metadata": {},
   "outputs": [],
   "source": [
    "from keras.layers import Dense\n",
    "from keras.models import Sequential"
   ]
  },
  {
   "cell_type": "code",
   "execution_count": 18,
   "id": "b6e2a8d5",
   "metadata": {},
   "outputs": [
    {
     "name": "stdout",
     "output_type": "stream",
     "text": [
      "20\n",
      "(614, 20)\n"
     ]
    }
   ],
   "source": [
    "print(X1.shape[1])\n",
    "print(X1.shape)"
   ]
  },
  {
   "cell_type": "code",
   "execution_count": 19,
   "id": "1ad7c736",
   "metadata": {},
   "outputs": [],
   "source": [
    "nn = Sequential() # input_dim here we have to give the columns \n",
    "# nn.add(Dense(32, activation = 'relu', input_dim = 20))\n",
    "nn.add(Dense(32, activation = 'relu', input_dim = X1.shape[1]))# Input layers\n",
    "nn.add(Dense(32, activation = 'relu')) # Hidden layers\n",
    "nn.add(Dense(1, activation = \"sigmoid\")) # Output layers\n"
   ]
  },
  {
   "cell_type": "code",
   "execution_count": 20,
   "id": "79be2cf0",
   "metadata": {},
   "outputs": [
    {
     "name": "stdout",
     "output_type": "stream",
     "text": [
      "Epoch 1/30\n",
      "16/16 [==============================] - 0s 21ms/step - loss: 0.6868 - accuracy: 0.6884 - val_loss: 0.6759 - val_accuracy: 0.6748\n",
      "Epoch 2/30\n",
      "16/16 [==============================] - 0s 4ms/step - loss: 0.6272 - accuracy: 0.6884 - val_loss: 0.6394 - val_accuracy: 0.6667\n",
      "Epoch 3/30\n",
      "16/16 [==============================] - 0s 3ms/step - loss: 0.5862 - accuracy: 0.6904 - val_loss: 0.6106 - val_accuracy: 0.6748\n",
      "Epoch 4/30\n",
      "16/16 [==============================] - 0s 4ms/step - loss: 0.5548 - accuracy: 0.6945 - val_loss: 0.5828 - val_accuracy: 0.6911\n",
      "Epoch 5/30\n",
      "16/16 [==============================] - 0s 4ms/step - loss: 0.5325 - accuracy: 0.7189 - val_loss: 0.5600 - val_accuracy: 0.7642\n",
      "Epoch 6/30\n",
      "16/16 [==============================] - 0s 3ms/step - loss: 0.5122 - accuracy: 0.7821 - val_loss: 0.5443 - val_accuracy: 0.7967\n",
      "Epoch 7/30\n",
      "16/16 [==============================] - 0s 3ms/step - loss: 0.4946 - accuracy: 0.8004 - val_loss: 0.5297 - val_accuracy: 0.8130\n",
      "Epoch 8/30\n",
      "16/16 [==============================] - 0s 3ms/step - loss: 0.4808 - accuracy: 0.8086 - val_loss: 0.5176 - val_accuracy: 0.8130\n",
      "Epoch 9/30\n",
      "16/16 [==============================] - 0s 3ms/step - loss: 0.4705 - accuracy: 0.8126 - val_loss: 0.5081 - val_accuracy: 0.8211\n",
      "Epoch 10/30\n",
      "16/16 [==============================] - 0s 3ms/step - loss: 0.4610 - accuracy: 0.8147 - val_loss: 0.5031 - val_accuracy: 0.8130\n",
      "Epoch 11/30\n",
      "16/16 [==============================] - 0s 3ms/step - loss: 0.4545 - accuracy: 0.8126 - val_loss: 0.4946 - val_accuracy: 0.8211\n",
      "Epoch 12/30\n",
      "16/16 [==============================] - 0s 3ms/step - loss: 0.4471 - accuracy: 0.8126 - val_loss: 0.4907 - val_accuracy: 0.8130\n",
      "Epoch 13/30\n",
      "16/16 [==============================] - 0s 4ms/step - loss: 0.4437 - accuracy: 0.8126 - val_loss: 0.4892 - val_accuracy: 0.8130\n",
      "Epoch 14/30\n",
      "16/16 [==============================] - 0s 3ms/step - loss: 0.4391 - accuracy: 0.8126 - val_loss: 0.4902 - val_accuracy: 0.8130\n",
      "Epoch 15/30\n",
      "16/16 [==============================] - 0s 4ms/step - loss: 0.4355 - accuracy: 0.8147 - val_loss: 0.4877 - val_accuracy: 0.8211\n",
      "Epoch 16/30\n",
      "16/16 [==============================] - 0s 4ms/step - loss: 0.4316 - accuracy: 0.8126 - val_loss: 0.4897 - val_accuracy: 0.8211\n",
      "Epoch 17/30\n",
      "16/16 [==============================] - 0s 5ms/step - loss: 0.4307 - accuracy: 0.8187 - val_loss: 0.4869 - val_accuracy: 0.8293\n",
      "Epoch 18/30\n",
      "16/16 [==============================] - 0s 3ms/step - loss: 0.4255 - accuracy: 0.8167 - val_loss: 0.4866 - val_accuracy: 0.8211\n",
      "Epoch 19/30\n",
      "16/16 [==============================] - 0s 4ms/step - loss: 0.4243 - accuracy: 0.8167 - val_loss: 0.4878 - val_accuracy: 0.8130\n",
      "Epoch 20/30\n",
      "16/16 [==============================] - 0s 4ms/step - loss: 0.4228 - accuracy: 0.8167 - val_loss: 0.4894 - val_accuracy: 0.8293\n",
      "Epoch 21/30\n",
      "16/16 [==============================] - 0s 3ms/step - loss: 0.4216 - accuracy: 0.8187 - val_loss: 0.4895 - val_accuracy: 0.8293\n",
      "Epoch 22/30\n",
      "16/16 [==============================] - 0s 4ms/step - loss: 0.4184 - accuracy: 0.8167 - val_loss: 0.4922 - val_accuracy: 0.8293\n",
      "Epoch 23/30\n",
      "16/16 [==============================] - 0s 3ms/step - loss: 0.4157 - accuracy: 0.8208 - val_loss: 0.4948 - val_accuracy: 0.8293\n",
      "Epoch 24/30\n",
      "16/16 [==============================] - 0s 4ms/step - loss: 0.4144 - accuracy: 0.8187 - val_loss: 0.4985 - val_accuracy: 0.8293\n",
      "Epoch 25/30\n",
      "16/16 [==============================] - 0s 3ms/step - loss: 0.4128 - accuracy: 0.8187 - val_loss: 0.4977 - val_accuracy: 0.8293\n",
      "Epoch 26/30\n",
      "16/16 [==============================] - 0s 3ms/step - loss: 0.4109 - accuracy: 0.8228 - val_loss: 0.4973 - val_accuracy: 0.8211\n",
      "Epoch 27/30\n",
      "16/16 [==============================] - 0s 3ms/step - loss: 0.4097 - accuracy: 0.8208 - val_loss: 0.5002 - val_accuracy: 0.8211\n",
      "Epoch 28/30\n",
      "16/16 [==============================] - 0s 4ms/step - loss: 0.4071 - accuracy: 0.8187 - val_loss: 0.5007 - val_accuracy: 0.8211\n",
      "Epoch 29/30\n",
      "16/16 [==============================] - 0s 4ms/step - loss: 0.4074 - accuracy: 0.8228 - val_loss: 0.5015 - val_accuracy: 0.8211\n",
      "Epoch 30/30\n",
      "16/16 [==============================] - 0s 4ms/step - loss: 0.4033 - accuracy: 0.8269 - val_loss: 0.5008 - val_accuracy: 0.8211\n"
     ]
    },
    {
     "data": {
      "text/plain": [
       "<tensorflow.python.keras.callbacks.History at 0x11bd71c0>"
      ]
     },
     "execution_count": 20,
     "metadata": {},
     "output_type": "execute_result"
    }
   ],
   "source": [
    "nn.compile(loss =\"binary_crossentropy\", metrics = ['accuracy'])\n",
    "nn.fit(X1, Y1, validation_split=0.2, epochs = 30)\n"
   ]
  },
  {
   "cell_type": "code",
   "execution_count": 21,
   "id": "3dff8706",
   "metadata": {},
   "outputs": [
    {
     "data": {
      "text/plain": [
       "(614, 20)"
      ]
     },
     "execution_count": 21,
     "metadata": {},
     "output_type": "execute_result"
    }
   ],
   "source": [
    "X1.shape"
   ]
  },
  {
   "cell_type": "markdown",
   "id": "25fb84a1",
   "metadata": {},
   "source": [
    "# Batch Gradient Descent"
   ]
  },
  {
   "cell_type": "code",
   "execution_count": 22,
   "id": "830dbab2",
   "metadata": {},
   "outputs": [
    {
     "name": "stdout",
     "output_type": "stream",
     "text": [
      "Epoch 1/100\n",
      "5/5 [==============================] - 0s 52ms/step - loss: 0.6397 - accuracy: 0.6802 - val_loss: 0.6753 - val_accuracy: 0.6423\n",
      "Epoch 2/100\n",
      "5/5 [==============================] - 0s 7ms/step - loss: 0.5991 - accuracy: 0.6884 - val_loss: 0.6548 - val_accuracy: 0.6585\n",
      "Epoch 3/100\n",
      "5/5 [==============================] - 0s 8ms/step - loss: 0.5738 - accuracy: 0.6965 - val_loss: 0.6380 - val_accuracy: 0.6585\n",
      "Epoch 4/100\n",
      "5/5 [==============================] - 0s 7ms/step - loss: 0.5543 - accuracy: 0.7128 - val_loss: 0.6248 - val_accuracy: 0.6911\n",
      "Epoch 5/100\n",
      "5/5 [==============================] - 0s 7ms/step - loss: 0.5379 - accuracy: 0.7393 - val_loss: 0.6144 - val_accuracy: 0.7154\n",
      "Epoch 6/100\n",
      "5/5 [==============================] - 0s 7ms/step - loss: 0.5229 - accuracy: 0.7597 - val_loss: 0.6030 - val_accuracy: 0.7398\n",
      "Epoch 7/100\n",
      "5/5 [==============================] - 0s 42ms/step - loss: 0.5098 - accuracy: 0.7862 - val_loss: 0.5920 - val_accuracy: 0.7642\n",
      "Epoch 8/100\n",
      "5/5 [==============================] - 0s 7ms/step - loss: 0.4981 - accuracy: 0.7902 - val_loss: 0.5811 - val_accuracy: 0.7886\n",
      "Epoch 9/100\n",
      "5/5 [==============================] - 0s 7ms/step - loss: 0.4877 - accuracy: 0.8024 - val_loss: 0.5726 - val_accuracy: 0.7886\n",
      "Epoch 10/100\n",
      "5/5 [==============================] - 0s 7ms/step - loss: 0.4790 - accuracy: 0.8045 - val_loss: 0.5650 - val_accuracy: 0.7886\n",
      "Epoch 11/100\n",
      "5/5 [==============================] - 0s 7ms/step - loss: 0.4710 - accuracy: 0.8065 - val_loss: 0.5572 - val_accuracy: 0.7805\n",
      "Epoch 12/100\n",
      "5/5 [==============================] - 0s 13ms/step - loss: 0.4664 - accuracy: 0.7984 - val_loss: 0.5515 - val_accuracy: 0.7886\n",
      "Epoch 13/100\n",
      "5/5 [==============================] - 0s 16ms/step - loss: 0.4606 - accuracy: 0.8065 - val_loss: 0.5455 - val_accuracy: 0.7886\n",
      "Epoch 14/100\n",
      "5/5 [==============================] - 0s 7ms/step - loss: 0.4552 - accuracy: 0.8024 - val_loss: 0.5410 - val_accuracy: 0.7886\n",
      "Epoch 15/100\n",
      "5/5 [==============================] - 0s 8ms/step - loss: 0.4514 - accuracy: 0.8065 - val_loss: 0.5365 - val_accuracy: 0.7886\n",
      "Epoch 16/100\n",
      "5/5 [==============================] - 0s 8ms/step - loss: 0.4484 - accuracy: 0.8004 - val_loss: 0.5337 - val_accuracy: 0.7967\n",
      "Epoch 17/100\n",
      "5/5 [==============================] - 0s 8ms/step - loss: 0.4464 - accuracy: 0.8004 - val_loss: 0.5319 - val_accuracy: 0.7967\n",
      "Epoch 18/100\n",
      "5/5 [==============================] - 0s 7ms/step - loss: 0.4420 - accuracy: 0.8065 - val_loss: 0.5298 - val_accuracy: 0.7967\n",
      "Epoch 19/100\n",
      "5/5 [==============================] - 0s 7ms/step - loss: 0.4394 - accuracy: 0.8045 - val_loss: 0.5278 - val_accuracy: 0.7967\n",
      "Epoch 20/100\n",
      "5/5 [==============================] - 0s 8ms/step - loss: 0.4373 - accuracy: 0.8106 - val_loss: 0.5253 - val_accuracy: 0.7967\n",
      "Epoch 21/100\n",
      "5/5 [==============================] - 0s 7ms/step - loss: 0.4357 - accuracy: 0.8086 - val_loss: 0.5243 - val_accuracy: 0.7967\n",
      "Epoch 22/100\n",
      "5/5 [==============================] - 0s 7ms/step - loss: 0.4345 - accuracy: 0.8086 - val_loss: 0.5231 - val_accuracy: 0.7967\n",
      "Epoch 23/100\n",
      "5/5 [==============================] - 0s 8ms/step - loss: 0.4317 - accuracy: 0.8045 - val_loss: 0.5217 - val_accuracy: 0.7967\n",
      "Epoch 24/100\n",
      "5/5 [==============================] - 0s 7ms/step - loss: 0.4299 - accuracy: 0.8086 - val_loss: 0.5209 - val_accuracy: 0.7967\n",
      "Epoch 25/100\n",
      "5/5 [==============================] - 0s 7ms/step - loss: 0.4288 - accuracy: 0.8086 - val_loss: 0.5202 - val_accuracy: 0.7967\n",
      "Epoch 26/100\n",
      "5/5 [==============================] - 0s 7ms/step - loss: 0.4264 - accuracy: 0.8106 - val_loss: 0.5202 - val_accuracy: 0.7967\n",
      "Epoch 27/100\n",
      "5/5 [==============================] - 0s 8ms/step - loss: 0.4247 - accuracy: 0.8126 - val_loss: 0.5209 - val_accuracy: 0.7967\n",
      "Epoch 28/100\n",
      "5/5 [==============================] - 0s 7ms/step - loss: 0.4234 - accuracy: 0.8106 - val_loss: 0.5206 - val_accuracy: 0.7967\n",
      "Epoch 29/100\n",
      "5/5 [==============================] - 0s 8ms/step - loss: 0.4217 - accuracy: 0.8167 - val_loss: 0.5210 - val_accuracy: 0.8049\n",
      "Epoch 30/100\n",
      "5/5 [==============================] - 0s 7ms/step - loss: 0.4209 - accuracy: 0.8126 - val_loss: 0.5216 - val_accuracy: 0.8049\n",
      "Epoch 31/100\n",
      "5/5 [==============================] - 0s 7ms/step - loss: 0.4211 - accuracy: 0.8187 - val_loss: 0.5211 - val_accuracy: 0.8049\n",
      "Epoch 32/100\n",
      "5/5 [==============================] - 0s 7ms/step - loss: 0.4181 - accuracy: 0.8167 - val_loss: 0.5220 - val_accuracy: 0.8049\n",
      "Epoch 33/100\n",
      "5/5 [==============================] - 0s 7ms/step - loss: 0.4165 - accuracy: 0.8187 - val_loss: 0.5212 - val_accuracy: 0.8049\n",
      "Epoch 34/100\n",
      "5/5 [==============================] - 0s 7ms/step - loss: 0.4175 - accuracy: 0.8187 - val_loss: 0.5218 - val_accuracy: 0.7967\n",
      "Epoch 35/100\n",
      "5/5 [==============================] - 0s 7ms/step - loss: 0.4158 - accuracy: 0.8187 - val_loss: 0.5222 - val_accuracy: 0.8049\n",
      "Epoch 36/100\n",
      "5/5 [==============================] - 0s 6ms/step - loss: 0.4129 - accuracy: 0.8147 - val_loss: 0.5241 - val_accuracy: 0.7886\n",
      "Epoch 37/100\n",
      "5/5 [==============================] - 0s 7ms/step - loss: 0.4125 - accuracy: 0.8208 - val_loss: 0.5250 - val_accuracy: 0.7967\n",
      "Epoch 38/100\n",
      "5/5 [==============================] - 0s 7ms/step - loss: 0.4106 - accuracy: 0.8167 - val_loss: 0.5247 - val_accuracy: 0.7886\n",
      "Epoch 39/100\n",
      "5/5 [==============================] - 0s 6ms/step - loss: 0.4116 - accuracy: 0.8147 - val_loss: 0.5272 - val_accuracy: 0.7886\n",
      "Epoch 40/100\n",
      "5/5 [==============================] - 0s 7ms/step - loss: 0.4091 - accuracy: 0.8147 - val_loss: 0.5270 - val_accuracy: 0.7886\n",
      "Epoch 41/100\n",
      "5/5 [==============================] - 0s 7ms/step - loss: 0.4069 - accuracy: 0.8208 - val_loss: 0.5275 - val_accuracy: 0.7886\n",
      "Epoch 42/100\n",
      "5/5 [==============================] - 0s 7ms/step - loss: 0.4060 - accuracy: 0.8208 - val_loss: 0.5266 - val_accuracy: 0.7886\n",
      "Epoch 43/100\n",
      "5/5 [==============================] - 0s 8ms/step - loss: 0.4049 - accuracy: 0.8208 - val_loss: 0.5262 - val_accuracy: 0.7886\n",
      "Epoch 44/100\n",
      "5/5 [==============================] - 0s 7ms/step - loss: 0.4056 - accuracy: 0.8187 - val_loss: 0.5269 - val_accuracy: 0.7886\n",
      "Epoch 45/100\n",
      "5/5 [==============================] - 0s 7ms/step - loss: 0.4027 - accuracy: 0.8208 - val_loss: 0.5285 - val_accuracy: 0.7886\n",
      "Epoch 46/100\n",
      "5/5 [==============================] - 0s 8ms/step - loss: 0.4018 - accuracy: 0.8228 - val_loss: 0.5286 - val_accuracy: 0.7886\n",
      "Epoch 47/100\n",
      "5/5 [==============================] - 0s 8ms/step - loss: 0.4008 - accuracy: 0.8187 - val_loss: 0.5311 - val_accuracy: 0.7886\n",
      "Epoch 48/100\n",
      "5/5 [==============================] - 0s 8ms/step - loss: 0.3996 - accuracy: 0.8248 - val_loss: 0.5311 - val_accuracy: 0.7886\n",
      "Epoch 49/100\n",
      "5/5 [==============================] - 0s 8ms/step - loss: 0.3990 - accuracy: 0.8248 - val_loss: 0.5308 - val_accuracy: 0.7886\n",
      "Epoch 50/100\n",
      "5/5 [==============================] - 0s 8ms/step - loss: 0.3981 - accuracy: 0.8248 - val_loss: 0.5321 - val_accuracy: 0.7886\n",
      "Epoch 51/100\n",
      "5/5 [==============================] - 0s 8ms/step - loss: 0.3960 - accuracy: 0.8248 - val_loss: 0.5320 - val_accuracy: 0.7886\n",
      "Epoch 52/100\n",
      "5/5 [==============================] - 0s 7ms/step - loss: 0.3950 - accuracy: 0.8310 - val_loss: 0.5319 - val_accuracy: 0.7886\n",
      "Epoch 53/100\n",
      "5/5 [==============================] - 0s 7ms/step - loss: 0.3942 - accuracy: 0.8228 - val_loss: 0.5333 - val_accuracy: 0.7886\n",
      "Epoch 54/100\n",
      "5/5 [==============================] - 0s 8ms/step - loss: 0.3942 - accuracy: 0.8269 - val_loss: 0.5345 - val_accuracy: 0.7967\n",
      "Epoch 55/100\n",
      "5/5 [==============================] - 0s 7ms/step - loss: 0.3926 - accuracy: 0.8248 - val_loss: 0.5347 - val_accuracy: 0.8049\n",
      "Epoch 56/100\n",
      "5/5 [==============================] - 0s 6ms/step - loss: 0.3912 - accuracy: 0.8269 - val_loss: 0.5357 - val_accuracy: 0.7886\n",
      "Epoch 57/100\n",
      "5/5 [==============================] - 0s 6ms/step - loss: 0.3908 - accuracy: 0.8310 - val_loss: 0.5363 - val_accuracy: 0.7967\n",
      "Epoch 58/100\n",
      "5/5 [==============================] - 0s 6ms/step - loss: 0.3884 - accuracy: 0.8269 - val_loss: 0.5376 - val_accuracy: 0.7886\n",
      "Epoch 59/100\n",
      "5/5 [==============================] - 0s 7ms/step - loss: 0.3879 - accuracy: 0.8269 - val_loss: 0.5401 - val_accuracy: 0.7886\n",
      "Epoch 60/100\n",
      "5/5 [==============================] - 0s 6ms/step - loss: 0.3896 - accuracy: 0.8330 - val_loss: 0.5391 - val_accuracy: 0.7886\n",
      "Epoch 61/100\n",
      "5/5 [==============================] - 0s 6ms/step - loss: 0.3847 - accuracy: 0.8310 - val_loss: 0.5400 - val_accuracy: 0.7967\n",
      "Epoch 62/100\n",
      "5/5 [==============================] - 0s 6ms/step - loss: 0.3861 - accuracy: 0.8269 - val_loss: 0.5420 - val_accuracy: 0.7886\n",
      "Epoch 63/100\n",
      "5/5 [==============================] - 0s 6ms/step - loss: 0.3830 - accuracy: 0.8269 - val_loss: 0.5444 - val_accuracy: 0.7886\n",
      "Epoch 64/100\n",
      "5/5 [==============================] - 0s 6ms/step - loss: 0.3826 - accuracy: 0.8269 - val_loss: 0.5443 - val_accuracy: 0.7886\n",
      "Epoch 65/100\n",
      "5/5 [==============================] - 0s 6ms/step - loss: 0.3812 - accuracy: 0.8350 - val_loss: 0.5422 - val_accuracy: 0.7967\n",
      "Epoch 66/100\n",
      "5/5 [==============================] - 0s 6ms/step - loss: 0.3799 - accuracy: 0.8269 - val_loss: 0.5440 - val_accuracy: 0.7967\n",
      "Epoch 67/100\n",
      "5/5 [==============================] - 0s 6ms/step - loss: 0.3786 - accuracy: 0.8289 - val_loss: 0.5449 - val_accuracy: 0.7967\n",
      "Epoch 68/100\n",
      "5/5 [==============================] - 0s 6ms/step - loss: 0.3801 - accuracy: 0.8289 - val_loss: 0.5472 - val_accuracy: 0.7967\n",
      "Epoch 69/100\n",
      "5/5 [==============================] - 0s 6ms/step - loss: 0.3766 - accuracy: 0.8289 - val_loss: 0.5484 - val_accuracy: 0.7967\n",
      "Epoch 70/100\n",
      "5/5 [==============================] - 0s 7ms/step - loss: 0.3758 - accuracy: 0.8269 - val_loss: 0.5499 - val_accuracy: 0.7967\n",
      "Epoch 71/100\n",
      "5/5 [==============================] - 0s 6ms/step - loss: 0.3757 - accuracy: 0.8289 - val_loss: 0.5501 - val_accuracy: 0.7967\n",
      "Epoch 72/100\n",
      "5/5 [==============================] - 0s 7ms/step - loss: 0.3734 - accuracy: 0.8289 - val_loss: 0.5502 - val_accuracy: 0.7967\n",
      "Epoch 73/100\n",
      "5/5 [==============================] - 0s 8ms/step - loss: 0.3728 - accuracy: 0.8330 - val_loss: 0.5506 - val_accuracy: 0.8049\n",
      "Epoch 74/100\n",
      "5/5 [==============================] - 0s 7ms/step - loss: 0.3719 - accuracy: 0.8289 - val_loss: 0.5503 - val_accuracy: 0.8049\n",
      "Epoch 75/100\n",
      "5/5 [==============================] - 0s 6ms/step - loss: 0.3708 - accuracy: 0.8310 - val_loss: 0.5538 - val_accuracy: 0.8049\n",
      "Epoch 76/100\n",
      "5/5 [==============================] - 0s 6ms/step - loss: 0.3689 - accuracy: 0.8289 - val_loss: 0.5538 - val_accuracy: 0.8049\n",
      "Epoch 77/100\n",
      "5/5 [==============================] - 0s 6ms/step - loss: 0.3677 - accuracy: 0.8310 - val_loss: 0.5542 - val_accuracy: 0.8049\n",
      "Epoch 78/100\n",
      "5/5 [==============================] - 0s 6ms/step - loss: 0.3680 - accuracy: 0.8350 - val_loss: 0.5558 - val_accuracy: 0.8049\n",
      "Epoch 79/100\n",
      "5/5 [==============================] - 0s 6ms/step - loss: 0.3647 - accuracy: 0.8310 - val_loss: 0.5577 - val_accuracy: 0.8049\n",
      "Epoch 80/100\n",
      "5/5 [==============================] - 0s 6ms/step - loss: 0.3641 - accuracy: 0.8330 - val_loss: 0.5603 - val_accuracy: 0.7967\n",
      "Epoch 81/100\n",
      "5/5 [==============================] - 0s 6ms/step - loss: 0.3660 - accuracy: 0.8310 - val_loss: 0.5595 - val_accuracy: 0.8049\n",
      "Epoch 82/100\n",
      "5/5 [==============================] - 0s 6ms/step - loss: 0.3615 - accuracy: 0.8371 - val_loss: 0.5619 - val_accuracy: 0.8049\n",
      "Epoch 83/100\n",
      "5/5 [==============================] - 0s 6ms/step - loss: 0.3613 - accuracy: 0.8330 - val_loss: 0.5633 - val_accuracy: 0.8049\n",
      "Epoch 84/100\n",
      "5/5 [==============================] - 0s 6ms/step - loss: 0.3595 - accuracy: 0.8310 - val_loss: 0.5655 - val_accuracy: 0.7967\n",
      "Epoch 85/100\n",
      "5/5 [==============================] - 0s 6ms/step - loss: 0.3575 - accuracy: 0.8432 - val_loss: 0.5648 - val_accuracy: 0.8049\n",
      "Epoch 86/100\n",
      "5/5 [==============================] - 0s 6ms/step - loss: 0.3577 - accuracy: 0.8310 - val_loss: 0.5662 - val_accuracy: 0.8049\n",
      "Epoch 87/100\n",
      "5/5 [==============================] - 0s 6ms/step - loss: 0.3563 - accuracy: 0.8371 - val_loss: 0.5667 - val_accuracy: 0.8049\n",
      "Epoch 88/100\n",
      "5/5 [==============================] - 0s 6ms/step - loss: 0.3568 - accuracy: 0.8350 - val_loss: 0.5700 - val_accuracy: 0.8049\n",
      "Epoch 89/100\n",
      "5/5 [==============================] - 0s 6ms/step - loss: 0.3551 - accuracy: 0.8411 - val_loss: 0.5719 - val_accuracy: 0.8049\n",
      "Epoch 90/100\n",
      "5/5 [==============================] - 0s 6ms/step - loss: 0.3523 - accuracy: 0.8452 - val_loss: 0.5706 - val_accuracy: 0.8049\n",
      "Epoch 91/100\n",
      "5/5 [==============================] - 0s 6ms/step - loss: 0.3526 - accuracy: 0.8432 - val_loss: 0.5707 - val_accuracy: 0.8049\n",
      "Epoch 92/100\n",
      "5/5 [==============================] - 0s 6ms/step - loss: 0.3511 - accuracy: 0.8391 - val_loss: 0.5741 - val_accuracy: 0.8049\n",
      "Epoch 93/100\n",
      "5/5 [==============================] - 0s 7ms/step - loss: 0.3501 - accuracy: 0.8411 - val_loss: 0.5734 - val_accuracy: 0.8049\n",
      "Epoch 94/100\n",
      "5/5 [==============================] - 0s 6ms/step - loss: 0.3486 - accuracy: 0.8452 - val_loss: 0.5761 - val_accuracy: 0.8049\n",
      "Epoch 95/100\n",
      "5/5 [==============================] - 0s 6ms/step - loss: 0.3466 - accuracy: 0.8391 - val_loss: 0.5775 - val_accuracy: 0.8049\n",
      "Epoch 96/100\n",
      "5/5 [==============================] - 0s 7ms/step - loss: 0.3461 - accuracy: 0.8513 - val_loss: 0.5800 - val_accuracy: 0.8049\n",
      "Epoch 97/100\n",
      "5/5 [==============================] - 0s 6ms/step - loss: 0.3451 - accuracy: 0.8452 - val_loss: 0.5825 - val_accuracy: 0.8049\n",
      "Epoch 98/100\n",
      "5/5 [==============================] - 0s 7ms/step - loss: 0.3453 - accuracy: 0.8411 - val_loss: 0.5836 - val_accuracy: 0.8049\n",
      "Epoch 99/100\n",
      "5/5 [==============================] - 0s 6ms/step - loss: 0.3442 - accuracy: 0.8452 - val_loss: 0.5834 - val_accuracy: 0.8049\n",
      "Epoch 100/100\n",
      "5/5 [==============================] - 0s 7ms/step - loss: 0.3411 - accuracy: 0.8493 - val_loss: 0.5865 - val_accuracy: 0.8049\n"
     ]
    },
    {
     "data": {
      "text/plain": [
       "<tensorflow.python.keras.callbacks.History at 0x13403040>"
      ]
     },
     "execution_count": 22,
     "metadata": {},
     "output_type": "execute_result"
    }
   ],
   "source": [
    "nn = Sequential() # input_dim here we have to give the columns \n",
    "# nn.add(Dense(32, activation = 'relu', input_dim = 20))\n",
    "nn.add(Dense(32, activation = 'relu', input_dim = X1.shape[1]))\n",
    "nn.add(Dense(32, activation = 'relu'))\n",
    "nn.add(Dense(1, activation = \"sigmoid\"))\n",
    "nn.compile(loss =\"binary_crossentropy\", metrics = ['accuracy'])\n",
    "nn.fit(X1, Y1, validation_split=0.2, epochs = 100,batch_size = 100 )"
   ]
  },
  {
   "cell_type": "markdown",
   "id": "5b22a83e",
   "metadata": {},
   "source": [
    "# Testing Set"
   ]
  },
  {
   "cell_type": "code",
   "execution_count": 23,
   "id": "349a282e",
   "metadata": {},
   "outputs": [],
   "source": [
    "B = pd.read_csv(\"/Users/user/Desktop/python/datasets/testing_set.csv\")"
   ]
  },
  {
   "cell_type": "code",
   "execution_count": 24,
   "id": "b7f2d9db",
   "metadata": {},
   "outputs": [],
   "source": [
    "xtest = B.drop([\"Loan_ID\"],axis = 1)"
   ]
  },
  {
   "cell_type": "code",
   "execution_count": 25,
   "id": "8fd5b829",
   "metadata": {},
   "outputs": [],
   "source": [
    "replacer(xtest)\n"
   ]
  },
  {
   "cell_type": "code",
   "execution_count": 26,
   "id": "7739ccec",
   "metadata": {},
   "outputs": [],
   "source": [
    "xtest = preprocessing(xtest)"
   ]
  },
  {
   "cell_type": "code",
   "execution_count": 27,
   "id": "23f5ce85",
   "metadata": {},
   "outputs": [
    {
     "data": {
      "text/plain": [
       "(367, 20)"
      ]
     },
     "execution_count": 27,
     "metadata": {},
     "output_type": "execute_result"
    }
   ],
   "source": [
    "xtest.shape"
   ]
  },
  {
   "cell_type": "code",
   "execution_count": 28,
   "id": "ebfa3911",
   "metadata": {},
   "outputs": [
    {
     "data": {
      "text/plain": [
       "Index(['Loan_ID', 'Gender', 'Married', 'Dependents', 'Education',\n",
       "       'Self_Employed', 'ApplicantIncome', 'CoapplicantIncome', 'LoanAmount',\n",
       "       'Loan_Amount_Term', 'Credit_History', 'Property_Area'],\n",
       "      dtype='object')"
      ]
     },
     "execution_count": 28,
     "metadata": {},
     "output_type": "execute_result"
    }
   ],
   "source": [
    "B.columns"
   ]
  },
  {
   "cell_type": "markdown",
   "id": "4bc5ce36",
   "metadata": {},
   "source": [
    "# Converting the Continous Y to Categorical Y"
   ]
  },
  {
   "cell_type": "code",
   "execution_count": 29,
   "id": "b7296e22",
   "metadata": {},
   "outputs": [],
   "source": [
    "# nn.predict_classes(xtest)"
   ]
  },
  {
   "cell_type": "code",
   "execution_count": 30,
   "id": "1e227cd1",
   "metadata": {},
   "outputs": [
    {
     "name": "stdout",
     "output_type": "stream",
     "text": [
      "WARNING:tensorflow:From C:\\Users\\user\\AppData\\Local\\Temp/ipykernel_5068/327563927.py:1: Sequential.predict_classes (from tensorflow.python.keras.engine.sequential) is deprecated and will be removed after 2021-01-01.\n",
      "Instructions for updating:\n",
      "Please use instead:* `np.argmax(model.predict(x), axis=-1)`,   if your model does multi-class classification   (e.g. if it uses a `softmax` last-layer activation).* `(model.predict(x) > 0.5).astype(\"int32\")`,   if your model does binary classification   (e.g. if it uses a `sigmoid` last-layer activation).\n"
     ]
    },
    {
     "data": {
      "text/plain": [
       "array(['Y', 'Y', 'Y', 'Y', 'Y', 'Y', 'Y', 'N', 'Y', 'Y', 'Y', 'Y', 'Y',\n",
       "       'N', 'Y', 'Y', 'Y', 'Y', 'N', 'Y', 'Y', 'Y', 'Y', 'Y', 'N', 'N',\n",
       "       'Y', 'Y', 'Y', 'Y', 'Y', 'Y', 'Y', 'Y', 'Y', 'N', 'Y', 'Y', 'Y',\n",
       "       'Y', 'Y', 'Y', 'Y', 'Y', 'Y', 'Y', 'Y', 'Y', 'Y', 'Y', 'Y', 'Y',\n",
       "       'Y', 'Y', 'Y', 'N', 'Y', 'Y', 'N', 'Y', 'Y', 'Y', 'Y', 'N', 'Y',\n",
       "       'Y', 'N', 'N', 'Y', 'N', 'Y', 'Y', 'Y', 'Y', 'Y', 'Y', 'Y', 'Y',\n",
       "       'Y', 'N', 'N', 'N', 'N', 'N', 'N', 'Y', 'Y', 'Y', 'Y', 'N', 'Y',\n",
       "       'Y', 'Y', 'Y', 'N', 'Y', 'N', 'Y', 'Y', 'Y', 'Y', 'N', 'Y', 'Y',\n",
       "       'Y', 'Y', 'N', 'Y', 'Y', 'Y', 'Y', 'Y', 'Y', 'Y', 'Y', 'Y', 'Y',\n",
       "       'N', 'N', 'N', 'Y', 'Y', 'Y', 'N', 'N', 'Y', 'N', 'Y', 'Y', 'Y',\n",
       "       'Y', 'Y', 'Y', 'Y', 'Y', 'Y', 'Y', 'Y', 'Y', 'Y', 'N', 'Y', 'N',\n",
       "       'N', 'Y', 'Y', 'Y', 'N', 'Y', 'Y', 'Y', 'Y', 'Y', 'N', 'Y', 'Y',\n",
       "       'Y', 'Y', 'Y', 'Y', 'Y', 'N', 'Y', 'Y', 'Y', 'N', 'N', 'Y', 'N',\n",
       "       'Y', 'Y', 'Y', 'Y', 'N', 'N', 'Y', 'Y', 'Y', 'Y', 'Y', 'Y', 'Y',\n",
       "       'Y', 'N', 'Y', 'Y', 'Y', 'Y', 'Y', 'Y', 'Y', 'Y', 'N', 'N', 'Y',\n",
       "       'Y', 'N', 'Y', 'N', 'Y', 'N', 'Y', 'Y', 'Y', 'Y', 'Y', 'Y', 'Y',\n",
       "       'Y', 'Y', 'Y', 'N', 'Y', 'Y', 'Y', 'Y', 'Y', 'N', 'Y', 'Y', 'Y',\n",
       "       'Y', 'N', 'Y', 'N', 'Y', 'Y', 'Y', 'Y', 'N', 'Y', 'Y', 'Y', 'Y',\n",
       "       'Y', 'N', 'Y', 'Y', 'Y', 'N', 'N', 'N', 'Y', 'N', 'Y', 'N', 'Y',\n",
       "       'Y', 'Y', 'Y', 'N', 'Y', 'Y', 'Y', 'Y', 'N', 'N', 'Y', 'Y', 'N',\n",
       "       'Y', 'Y', 'Y', 'N', 'Y', 'Y', 'N', 'Y', 'N', 'Y', 'Y', 'N', 'Y',\n",
       "       'N', 'N', 'Y', 'Y', 'Y', 'N', 'Y', 'Y', 'Y', 'Y', 'N', 'N', 'Y',\n",
       "       'Y', 'Y', 'Y', 'Y', 'Y', 'Y', 'Y', 'N', 'Y', 'Y', 'Y', 'Y', 'Y',\n",
       "       'Y', 'Y', 'N', 'Y', 'Y', 'Y', 'Y', 'Y', 'Y', 'Y', 'Y', 'Y', 'N',\n",
       "       'Y', 'Y', 'Y', 'Y', 'N', 'N', 'N', 'Y', 'Y', 'Y', 'Y', 'Y', 'Y',\n",
       "       'Y', 'Y', 'Y', 'Y', 'Y', 'Y', 'Y', 'N', 'Y', 'Y', 'Y', 'Y', 'Y',\n",
       "       'Y', 'N', 'Y', 'Y', 'Y', 'Y', 'Y', 'Y', 'N', 'Y', 'Y', 'Y', 'Y',\n",
       "       'Y', 'Y', 'Y', 'N', 'Y', 'Y', 'Y', 'Y', 'Y', 'Y', 'Y', 'Y', 'Y',\n",
       "       'Y', 'Y', 'Y'], dtype=object)"
      ]
     },
     "execution_count": 30,
     "metadata": {},
     "output_type": "execute_result"
    }
   ],
   "source": [
    "le.inverse_transform(nn.predict_classes(xtest))"
   ]
  },
  {
   "cell_type": "code",
   "execution_count": 31,
   "id": "639c68cd",
   "metadata": {},
   "outputs": [],
   "source": [
    "replacer(B)"
   ]
  },
  {
   "cell_type": "code",
   "execution_count": 32,
   "id": "259e7e5d",
   "metadata": {},
   "outputs": [
    {
     "data": {
      "text/html": [
       "<div>\n",
       "<style scoped>\n",
       "    .dataframe tbody tr th:only-of-type {\n",
       "        vertical-align: middle;\n",
       "    }\n",
       "\n",
       "    .dataframe tbody tr th {\n",
       "        vertical-align: top;\n",
       "    }\n",
       "\n",
       "    .dataframe thead th {\n",
       "        text-align: right;\n",
       "    }\n",
       "</style>\n",
       "<table border=\"1\" class=\"dataframe\">\n",
       "  <thead>\n",
       "    <tr style=\"text-align: right;\">\n",
       "      <th></th>\n",
       "      <th>Loan_ID</th>\n",
       "      <th>Gender</th>\n",
       "      <th>Married</th>\n",
       "      <th>Dependents</th>\n",
       "      <th>Education</th>\n",
       "      <th>Self_Employed</th>\n",
       "      <th>ApplicantIncome</th>\n",
       "      <th>CoapplicantIncome</th>\n",
       "      <th>LoanAmount</th>\n",
       "      <th>Loan_Amount_Term</th>\n",
       "      <th>Credit_History</th>\n",
       "      <th>Property_Area</th>\n",
       "      <th>Predicted_loan_Status</th>\n",
       "    </tr>\n",
       "  </thead>\n",
       "  <tbody>\n",
       "    <tr>\n",
       "      <th>0</th>\n",
       "      <td>LP001015</td>\n",
       "      <td>Male</td>\n",
       "      <td>Yes</td>\n",
       "      <td>0</td>\n",
       "      <td>Graduate</td>\n",
       "      <td>No</td>\n",
       "      <td>5720</td>\n",
       "      <td>0</td>\n",
       "      <td>110.0</td>\n",
       "      <td>360.0</td>\n",
       "      <td>1.00</td>\n",
       "      <td>Urban</td>\n",
       "      <td>Y</td>\n",
       "    </tr>\n",
       "    <tr>\n",
       "      <th>1</th>\n",
       "      <td>LP001022</td>\n",
       "      <td>Male</td>\n",
       "      <td>Yes</td>\n",
       "      <td>1</td>\n",
       "      <td>Graduate</td>\n",
       "      <td>No</td>\n",
       "      <td>3076</td>\n",
       "      <td>1500</td>\n",
       "      <td>126.0</td>\n",
       "      <td>360.0</td>\n",
       "      <td>1.00</td>\n",
       "      <td>Urban</td>\n",
       "      <td>Y</td>\n",
       "    </tr>\n",
       "    <tr>\n",
       "      <th>2</th>\n",
       "      <td>LP001031</td>\n",
       "      <td>Male</td>\n",
       "      <td>Yes</td>\n",
       "      <td>2</td>\n",
       "      <td>Graduate</td>\n",
       "      <td>No</td>\n",
       "      <td>5000</td>\n",
       "      <td>1800</td>\n",
       "      <td>208.0</td>\n",
       "      <td>360.0</td>\n",
       "      <td>1.00</td>\n",
       "      <td>Urban</td>\n",
       "      <td>Y</td>\n",
       "    </tr>\n",
       "    <tr>\n",
       "      <th>3</th>\n",
       "      <td>LP001035</td>\n",
       "      <td>Male</td>\n",
       "      <td>Yes</td>\n",
       "      <td>2</td>\n",
       "      <td>Graduate</td>\n",
       "      <td>No</td>\n",
       "      <td>2340</td>\n",
       "      <td>2546</td>\n",
       "      <td>100.0</td>\n",
       "      <td>360.0</td>\n",
       "      <td>0.83</td>\n",
       "      <td>Urban</td>\n",
       "      <td>Y</td>\n",
       "    </tr>\n",
       "    <tr>\n",
       "      <th>4</th>\n",
       "      <td>LP001051</td>\n",
       "      <td>Male</td>\n",
       "      <td>No</td>\n",
       "      <td>0</td>\n",
       "      <td>Not Graduate</td>\n",
       "      <td>No</td>\n",
       "      <td>3276</td>\n",
       "      <td>0</td>\n",
       "      <td>78.0</td>\n",
       "      <td>360.0</td>\n",
       "      <td>1.00</td>\n",
       "      <td>Urban</td>\n",
       "      <td>Y</td>\n",
       "    </tr>\n",
       "    <tr>\n",
       "      <th>...</th>\n",
       "      <td>...</td>\n",
       "      <td>...</td>\n",
       "      <td>...</td>\n",
       "      <td>...</td>\n",
       "      <td>...</td>\n",
       "      <td>...</td>\n",
       "      <td>...</td>\n",
       "      <td>...</td>\n",
       "      <td>...</td>\n",
       "      <td>...</td>\n",
       "      <td>...</td>\n",
       "      <td>...</td>\n",
       "      <td>...</td>\n",
       "    </tr>\n",
       "    <tr>\n",
       "      <th>362</th>\n",
       "      <td>LP002971</td>\n",
       "      <td>Male</td>\n",
       "      <td>Yes</td>\n",
       "      <td>3+</td>\n",
       "      <td>Not Graduate</td>\n",
       "      <td>Yes</td>\n",
       "      <td>4009</td>\n",
       "      <td>1777</td>\n",
       "      <td>113.0</td>\n",
       "      <td>360.0</td>\n",
       "      <td>1.00</td>\n",
       "      <td>Urban</td>\n",
       "      <td>Y</td>\n",
       "    </tr>\n",
       "    <tr>\n",
       "      <th>363</th>\n",
       "      <td>LP002975</td>\n",
       "      <td>Male</td>\n",
       "      <td>Yes</td>\n",
       "      <td>0</td>\n",
       "      <td>Graduate</td>\n",
       "      <td>No</td>\n",
       "      <td>4158</td>\n",
       "      <td>709</td>\n",
       "      <td>115.0</td>\n",
       "      <td>360.0</td>\n",
       "      <td>1.00</td>\n",
       "      <td>Urban</td>\n",
       "      <td>Y</td>\n",
       "    </tr>\n",
       "    <tr>\n",
       "      <th>364</th>\n",
       "      <td>LP002980</td>\n",
       "      <td>Male</td>\n",
       "      <td>No</td>\n",
       "      <td>0</td>\n",
       "      <td>Graduate</td>\n",
       "      <td>No</td>\n",
       "      <td>3250</td>\n",
       "      <td>1993</td>\n",
       "      <td>126.0</td>\n",
       "      <td>360.0</td>\n",
       "      <td>0.83</td>\n",
       "      <td>Semiurban</td>\n",
       "      <td>Y</td>\n",
       "    </tr>\n",
       "    <tr>\n",
       "      <th>365</th>\n",
       "      <td>LP002986</td>\n",
       "      <td>Male</td>\n",
       "      <td>Yes</td>\n",
       "      <td>0</td>\n",
       "      <td>Graduate</td>\n",
       "      <td>No</td>\n",
       "      <td>5000</td>\n",
       "      <td>2393</td>\n",
       "      <td>158.0</td>\n",
       "      <td>360.0</td>\n",
       "      <td>1.00</td>\n",
       "      <td>Rural</td>\n",
       "      <td>Y</td>\n",
       "    </tr>\n",
       "    <tr>\n",
       "      <th>366</th>\n",
       "      <td>LP002989</td>\n",
       "      <td>Male</td>\n",
       "      <td>No</td>\n",
       "      <td>0</td>\n",
       "      <td>Graduate</td>\n",
       "      <td>Yes</td>\n",
       "      <td>9200</td>\n",
       "      <td>0</td>\n",
       "      <td>98.0</td>\n",
       "      <td>180.0</td>\n",
       "      <td>1.00</td>\n",
       "      <td>Rural</td>\n",
       "      <td>Y</td>\n",
       "    </tr>\n",
       "  </tbody>\n",
       "</table>\n",
       "<p>367 rows × 13 columns</p>\n",
       "</div>"
      ],
      "text/plain": [
       "      Loan_ID Gender Married Dependents     Education Self_Employed  \\\n",
       "0    LP001015   Male     Yes          0      Graduate            No   \n",
       "1    LP001022   Male     Yes          1      Graduate            No   \n",
       "2    LP001031   Male     Yes          2      Graduate            No   \n",
       "3    LP001035   Male     Yes          2      Graduate            No   \n",
       "4    LP001051   Male      No          0  Not Graduate            No   \n",
       "..        ...    ...     ...        ...           ...           ...   \n",
       "362  LP002971   Male     Yes         3+  Not Graduate           Yes   \n",
       "363  LP002975   Male     Yes          0      Graduate            No   \n",
       "364  LP002980   Male      No          0      Graduate            No   \n",
       "365  LP002986   Male     Yes          0      Graduate            No   \n",
       "366  LP002989   Male      No          0      Graduate           Yes   \n",
       "\n",
       "     ApplicantIncome  CoapplicantIncome  LoanAmount  Loan_Amount_Term  \\\n",
       "0               5720                  0       110.0             360.0   \n",
       "1               3076               1500       126.0             360.0   \n",
       "2               5000               1800       208.0             360.0   \n",
       "3               2340               2546       100.0             360.0   \n",
       "4               3276                  0        78.0             360.0   \n",
       "..               ...                ...         ...               ...   \n",
       "362             4009               1777       113.0             360.0   \n",
       "363             4158                709       115.0             360.0   \n",
       "364             3250               1993       126.0             360.0   \n",
       "365             5000               2393       158.0             360.0   \n",
       "366             9200                  0        98.0             180.0   \n",
       "\n",
       "     Credit_History Property_Area Predicted_loan_Status  \n",
       "0              1.00         Urban                     Y  \n",
       "1              1.00         Urban                     Y  \n",
       "2              1.00         Urban                     Y  \n",
       "3              0.83         Urban                     Y  \n",
       "4              1.00         Urban                     Y  \n",
       "..              ...           ...                   ...  \n",
       "362            1.00         Urban                     Y  \n",
       "363            1.00         Urban                     Y  \n",
       "364            0.83     Semiurban                     Y  \n",
       "365            1.00         Rural                     Y  \n",
       "366            1.00         Rural                     Y  \n",
       "\n",
       "[367 rows x 13 columns]"
      ]
     },
     "execution_count": 32,
     "metadata": {},
     "output_type": "execute_result"
    }
   ],
   "source": [
    "B['Predicted_loan_Status'] = le.inverse_transform(nn.predict_classes(xtest))\n",
    "B"
   ]
  },
  {
   "cell_type": "markdown",
   "id": "e36ccede",
   "metadata": {},
   "source": [
    "# Problem Statment 2:\n",
    "##### Predict Loan Amount for Rejected ones"
   ]
  },
  {
   "cell_type": "markdown",
   "id": "2f7fc151",
   "metadata": {},
   "source": [
    "# Data preparation"
   ]
  },
  {
   "cell_type": "code",
   "execution_count": 33,
   "id": "219ef839",
   "metadata": {},
   "outputs": [],
   "source": [
    "replacer(A)"
   ]
  },
  {
   "cell_type": "code",
   "execution_count": 34,
   "id": "c6e9d15e",
   "metadata": {},
   "outputs": [
    {
     "data": {
      "text/plain": [
       "Loan_ID              0\n",
       "Gender               0\n",
       "Married              0\n",
       "Dependents           0\n",
       "Education            0\n",
       "Self_Employed        0\n",
       "ApplicantIncome      0\n",
       "CoapplicantIncome    0\n",
       "LoanAmount           0\n",
       "Loan_Amount_Term     0\n",
       "Credit_History       0\n",
       "Property_Area        0\n",
       "Loan_Status          0\n",
       "dtype: int64"
      ]
     },
     "execution_count": 34,
     "metadata": {},
     "output_type": "execute_result"
    }
   ],
   "source": [
    "A.isna().sum()"
   ]
  },
  {
   "cell_type": "markdown",
   "id": "2dbc9dd0",
   "metadata": {},
   "source": [
    "# For this problem statement we are taking Train_set and Test Set data which is predicted and actually Yes"
   ]
  },
  {
   "cell_type": "code",
   "execution_count": 35,
   "id": "a1dcc49d",
   "metadata": {},
   "outputs": [],
   "source": [
    "A1 = A[A.Loan_Status == \"Y\" ]"
   ]
  },
  {
   "cell_type": "code",
   "execution_count": 36,
   "id": "cc81bde1",
   "metadata": {},
   "outputs": [],
   "source": [
    "A2 = B[B.Predicted_loan_Status == \"Y\" ]"
   ]
  },
  {
   "cell_type": "code",
   "execution_count": 37,
   "id": "02ea298f",
   "metadata": {},
   "outputs": [
    {
     "data": {
      "text/plain": [
       "Index(['Loan_ID', 'Gender', 'Married', 'Dependents', 'Education',\n",
       "       'Self_Employed', 'ApplicantIncome', 'CoapplicantIncome', 'LoanAmount',\n",
       "       'Loan_Amount_Term', 'Credit_History', 'Property_Area', 'Loan_Status'],\n",
       "      dtype='object')"
      ]
     },
     "execution_count": 37,
     "metadata": {},
     "output_type": "execute_result"
    }
   ],
   "source": [
    "A1.columns"
   ]
  },
  {
   "cell_type": "code",
   "execution_count": 38,
   "id": "e6d8d36d",
   "metadata": {},
   "outputs": [
    {
     "data": {
      "text/plain": [
       "Index(['Loan_ID', 'Gender', 'Married', 'Dependents', 'Education',\n",
       "       'Self_Employed', 'ApplicantIncome', 'CoapplicantIncome', 'LoanAmount',\n",
       "       'Loan_Amount_Term', 'Credit_History', 'Property_Area',\n",
       "       'Predicted_loan_Status'],\n",
       "      dtype='object')"
      ]
     },
     "execution_count": 38,
     "metadata": {},
     "output_type": "execute_result"
    }
   ],
   "source": [
    "A2.columns"
   ]
  },
  {
   "cell_type": "markdown",
   "id": "8e6434aa",
   "metadata": {},
   "source": [
    "## WE are evaluating the column names are same and also change into the real names. So here we have Predicted_loan_Status column will change it into Loan_Status"
   ]
  },
  {
   "cell_type": "code",
   "execution_count": 39,
   "id": "fee4eae3",
   "metadata": {},
   "outputs": [],
   "source": [
    "A2.columns= A1.columns"
   ]
  },
  {
   "cell_type": "markdown",
   "id": "fe5046aa",
   "metadata": {},
   "source": [
    "# if i want merge to dataset so we will use concat"
   ]
  },
  {
   "cell_type": "code",
   "execution_count": 40,
   "id": "d666e2b1",
   "metadata": {},
   "outputs": [],
   "source": [
    "C = pd.concat([A1,A2])"
   ]
  },
  {
   "cell_type": "markdown",
   "id": "efcedf5e",
   "metadata": {},
   "source": [
    "# We are doing reindexing because if we didnot do the reindexing then of the imbalanced indexing it will give u error"
   ]
  },
  {
   "cell_type": "code",
   "execution_count": 41,
   "id": "8988cc70",
   "metadata": {},
   "outputs": [
    {
     "data": {
      "text/plain": [
       "Int64Index([  0,   2,   3,   4,   5,   6,   8,  10,  11,  12,\n",
       "            ...\n",
       "            357, 358, 359, 360, 361, 362, 363, 364, 365, 366],\n",
       "           dtype='int64', length=709)"
      ]
     },
     "execution_count": 41,
     "metadata": {},
     "output_type": "execute_result"
    }
   ],
   "source": [
    "C.index"
   ]
  },
  {
   "cell_type": "code",
   "execution_count": 42,
   "id": "5c041929",
   "metadata": {},
   "outputs": [
    {
     "data": {
      "text/plain": [
       "(709, 13)"
      ]
     },
     "execution_count": 42,
     "metadata": {},
     "output_type": "execute_result"
    }
   ],
   "source": [
    "C.shape"
   ]
  },
  {
   "cell_type": "code",
   "execution_count": 43,
   "id": "1817521e",
   "metadata": {},
   "outputs": [],
   "source": [
    "C.index= range(0,709,1)"
   ]
  },
  {
   "cell_type": "code",
   "execution_count": 44,
   "id": "51d38a42",
   "metadata": {},
   "outputs": [
    {
     "data": {
      "text/html": [
       "<div>\n",
       "<style scoped>\n",
       "    .dataframe tbody tr th:only-of-type {\n",
       "        vertical-align: middle;\n",
       "    }\n",
       "\n",
       "    .dataframe tbody tr th {\n",
       "        vertical-align: top;\n",
       "    }\n",
       "\n",
       "    .dataframe thead th {\n",
       "        text-align: right;\n",
       "    }\n",
       "</style>\n",
       "<table border=\"1\" class=\"dataframe\">\n",
       "  <thead>\n",
       "    <tr style=\"text-align: right;\">\n",
       "      <th></th>\n",
       "      <th>Loan_ID</th>\n",
       "      <th>Gender</th>\n",
       "      <th>Married</th>\n",
       "      <th>Dependents</th>\n",
       "      <th>Education</th>\n",
       "      <th>Self_Employed</th>\n",
       "      <th>ApplicantIncome</th>\n",
       "      <th>CoapplicantIncome</th>\n",
       "      <th>LoanAmount</th>\n",
       "      <th>Loan_Amount_Term</th>\n",
       "      <th>Credit_History</th>\n",
       "      <th>Property_Area</th>\n",
       "      <th>Loan_Status</th>\n",
       "    </tr>\n",
       "  </thead>\n",
       "  <tbody>\n",
       "    <tr>\n",
       "      <th>0</th>\n",
       "      <td>LP001002</td>\n",
       "      <td>Male</td>\n",
       "      <td>No</td>\n",
       "      <td>0</td>\n",
       "      <td>Graduate</td>\n",
       "      <td>No</td>\n",
       "      <td>5849.0</td>\n",
       "      <td>0.0</td>\n",
       "      <td>146.41</td>\n",
       "      <td>360.0</td>\n",
       "      <td>1.0</td>\n",
       "      <td>Urban</td>\n",
       "      <td>Y</td>\n",
       "    </tr>\n",
       "    <tr>\n",
       "      <th>1</th>\n",
       "      <td>LP001005</td>\n",
       "      <td>Male</td>\n",
       "      <td>Yes</td>\n",
       "      <td>0</td>\n",
       "      <td>Graduate</td>\n",
       "      <td>Yes</td>\n",
       "      <td>3000.0</td>\n",
       "      <td>0.0</td>\n",
       "      <td>66.00</td>\n",
       "      <td>360.0</td>\n",
       "      <td>1.0</td>\n",
       "      <td>Urban</td>\n",
       "      <td>Y</td>\n",
       "    </tr>\n",
       "    <tr>\n",
       "      <th>2</th>\n",
       "      <td>LP001006</td>\n",
       "      <td>Male</td>\n",
       "      <td>Yes</td>\n",
       "      <td>0</td>\n",
       "      <td>Not Graduate</td>\n",
       "      <td>No</td>\n",
       "      <td>2583.0</td>\n",
       "      <td>2358.0</td>\n",
       "      <td>120.00</td>\n",
       "      <td>360.0</td>\n",
       "      <td>1.0</td>\n",
       "      <td>Urban</td>\n",
       "      <td>Y</td>\n",
       "    </tr>\n",
       "    <tr>\n",
       "      <th>3</th>\n",
       "      <td>LP001008</td>\n",
       "      <td>Male</td>\n",
       "      <td>No</td>\n",
       "      <td>0</td>\n",
       "      <td>Graduate</td>\n",
       "      <td>No</td>\n",
       "      <td>6000.0</td>\n",
       "      <td>0.0</td>\n",
       "      <td>141.00</td>\n",
       "      <td>360.0</td>\n",
       "      <td>1.0</td>\n",
       "      <td>Urban</td>\n",
       "      <td>Y</td>\n",
       "    </tr>\n",
       "    <tr>\n",
       "      <th>4</th>\n",
       "      <td>LP001011</td>\n",
       "      <td>Male</td>\n",
       "      <td>Yes</td>\n",
       "      <td>2</td>\n",
       "      <td>Graduate</td>\n",
       "      <td>Yes</td>\n",
       "      <td>5417.0</td>\n",
       "      <td>4196.0</td>\n",
       "      <td>267.00</td>\n",
       "      <td>360.0</td>\n",
       "      <td>1.0</td>\n",
       "      <td>Urban</td>\n",
       "      <td>Y</td>\n",
       "    </tr>\n",
       "  </tbody>\n",
       "</table>\n",
       "</div>"
      ],
      "text/plain": [
       "    Loan_ID Gender Married Dependents     Education Self_Employed  \\\n",
       "0  LP001002   Male      No          0      Graduate            No   \n",
       "1  LP001005   Male     Yes          0      Graduate           Yes   \n",
       "2  LP001006   Male     Yes          0  Not Graduate            No   \n",
       "3  LP001008   Male      No          0      Graduate            No   \n",
       "4  LP001011   Male     Yes          2      Graduate           Yes   \n",
       "\n",
       "   ApplicantIncome  CoapplicantIncome  LoanAmount  Loan_Amount_Term  \\\n",
       "0           5849.0                0.0      146.41             360.0   \n",
       "1           3000.0                0.0       66.00             360.0   \n",
       "2           2583.0             2358.0      120.00             360.0   \n",
       "3           6000.0                0.0      141.00             360.0   \n",
       "4           5417.0             4196.0      267.00             360.0   \n",
       "\n",
       "   Credit_History Property_Area Loan_Status  \n",
       "0             1.0         Urban           Y  \n",
       "1             1.0         Urban           Y  \n",
       "2             1.0         Urban           Y  \n",
       "3             1.0         Urban           Y  \n",
       "4             1.0         Urban           Y  "
      ]
     },
     "execution_count": 44,
     "metadata": {},
     "output_type": "execute_result"
    }
   ],
   "source": [
    "C.head()"
   ]
  },
  {
   "cell_type": "markdown",
   "id": "bbe53e3d",
   "metadata": {},
   "source": [
    "# Preprocessing"
   ]
  },
  {
   "cell_type": "code",
   "execution_count": 45,
   "id": "0ce131f6",
   "metadata": {},
   "outputs": [],
   "source": [
    "X = C.drop(labels= ['Loan_Amount_Term', 'Loan_ID'], axis = 1)\n",
    "replacer(X)\n",
    "Y = C[['Loan_Amount_Term']]\n",
    "replacer(Y)"
   ]
  },
  {
   "cell_type": "code",
   "execution_count": 46,
   "id": "33d38393",
   "metadata": {},
   "outputs": [],
   "source": [
    "X1 = preprocessing(X)"
   ]
  },
  {
   "cell_type": "code",
   "execution_count": 47,
   "id": "e3cfd86d",
   "metadata": {},
   "outputs": [
    {
     "data": {
      "text/plain": [
       "(709, 20)"
      ]
     },
     "execution_count": 47,
     "metadata": {},
     "output_type": "execute_result"
    }
   ],
   "source": [
    "X1.shape"
   ]
  },
  {
   "cell_type": "code",
   "execution_count": 48,
   "id": "6a98c128",
   "metadata": {},
   "outputs": [
    {
     "data": {
      "text/plain": [
       "Loan_Amount_Term    0\n",
       "dtype: int64"
      ]
     },
     "execution_count": 48,
     "metadata": {},
     "output_type": "execute_result"
    }
   ],
   "source": [
    "Y.isna().sum()"
   ]
  },
  {
   "cell_type": "markdown",
   "id": "62d3a1e4",
   "metadata": {},
   "source": [
    "# Create NN"
   ]
  },
  {
   "cell_type": "code",
   "execution_count": 49,
   "id": "764b9597",
   "metadata": {},
   "outputs": [],
   "source": [
    "from keras.layers import Dense\n",
    "from keras.models import Sequential\n"
   ]
  },
  {
   "cell_type": "code",
   "execution_count": 50,
   "id": "fa1cc604",
   "metadata": {},
   "outputs": [
    {
     "name": "stdout",
     "output_type": "stream",
     "text": [
      "columns---> 20\n"
     ]
    }
   ],
   "source": [
    "X1.shape\n",
    "print(\"columns--->\",X1.shape[1])"
   ]
  },
  {
   "cell_type": "code",
   "execution_count": 51,
   "id": "bf352458",
   "metadata": {},
   "outputs": [
    {
     "name": "stdout",
     "output_type": "stream",
     "text": [
      "Epoch 1/30\n",
      "18/18 [==============================] - 0s 14ms/step - loss: 119067.8125 - val_loss: 118214.6641\n",
      "Epoch 2/30\n",
      "18/18 [==============================] - 0s 8ms/step - loss: 117967.8359 - val_loss: 116948.3047\n",
      "Epoch 3/30\n",
      "18/18 [==============================] - 0s 4ms/step - loss: 116448.6250 - val_loss: 115119.8203\n",
      "Epoch 4/30\n",
      "18/18 [==============================] - 0s 4ms/step - loss: 114281.3359 - val_loss: 112531.6406\n",
      "Epoch 5/30\n",
      "18/18 [==============================] - 0s 4ms/step - loss: 111268.5625 - val_loss: 109032.1094\n",
      "Epoch 6/30\n",
      "18/18 [==============================] - 0s 5ms/step - loss: 107342.7422 - val_loss: 104609.0859\n",
      "Epoch 7/30\n",
      "18/18 [==============================] - 0s 5ms/step - loss: 102402.9688 - val_loss: 99141.2109\n",
      "Epoch 8/30\n",
      "18/18 [==============================] - 0s 5ms/step - loss: 96418.6641 - val_loss: 92650.5312\n",
      "Epoch 9/30\n",
      "18/18 [==============================] - 0s 4ms/step - loss: 89480.6016 - val_loss: 85274.5234\n",
      "Epoch 10/30\n",
      "18/18 [==============================] - 0s 4ms/step - loss: 81584.9375 - val_loss: 76926.4531\n",
      "Epoch 11/30\n",
      "18/18 [==============================] - 0s 4ms/step - loss: 72869.1797 - val_loss: 67911.3203\n",
      "Epoch 12/30\n",
      "18/18 [==============================] - 0s 4ms/step - loss: 63465.2891 - val_loss: 58244.3711\n",
      "Epoch 13/30\n",
      "18/18 [==============================] - 0s 3ms/step - loss: 53632.3945 - val_loss: 48432.5312\n",
      "Epoch 14/30\n",
      "18/18 [==============================] - 0s 4ms/step - loss: 43709.1445 - val_loss: 38569.4922\n",
      "Epoch 15/30\n",
      "18/18 [==============================] - 0s 3ms/step - loss: 33983.2734 - val_loss: 29226.5156\n",
      "Epoch 16/30\n",
      "18/18 [==============================] - 0s 4ms/step - loss: 24927.3750 - val_loss: 20812.1328\n",
      "Epoch 17/30\n",
      "18/18 [==============================] - 0s 3ms/step - loss: 17021.8633 - val_loss: 13798.7354\n",
      "Epoch 18/30\n",
      "18/18 [==============================] - 0s 4ms/step - loss: 10747.2070 - val_loss: 8631.0420\n",
      "Epoch 19/30\n",
      "18/18 [==============================] - 0s 5ms/step - loss: 6568.6704 - val_loss: 5753.5659\n",
      "Epoch 20/30\n",
      "18/18 [==============================] - 0s 7ms/step - loss: 4572.7988 - val_loss: 4799.9917\n",
      "Epoch 21/30\n",
      "18/18 [==============================] - 0s 5ms/step - loss: 4073.0869 - val_loss: 4698.6558\n",
      "Epoch 22/30\n",
      "18/18 [==============================] - 0s 5ms/step - loss: 4013.2444 - val_loss: 4696.1104\n",
      "Epoch 23/30\n",
      "18/18 [==============================] - 0s 6ms/step - loss: 3974.3057 - val_loss: 4698.4663\n",
      "Epoch 24/30\n",
      "18/18 [==============================] - 0s 4ms/step - loss: 3944.4775 - val_loss: 4706.4370\n",
      "Epoch 25/30\n",
      "18/18 [==============================] - 0s 4ms/step - loss: 3928.2354 - val_loss: 4701.9033\n",
      "Epoch 26/30\n",
      "18/18 [==============================] - 0s 3ms/step - loss: 3903.5591 - val_loss: 4705.2773\n",
      "Epoch 27/30\n",
      "18/18 [==============================] - 0s 3ms/step - loss: 3888.4917 - val_loss: 4716.7378\n",
      "Epoch 28/30\n",
      "18/18 [==============================] - 0s 3ms/step - loss: 3886.9397 - val_loss: 4720.7104\n",
      "Epoch 29/30\n",
      "18/18 [==============================] - 0s 3ms/step - loss: 3852.9414 - val_loss: 4727.6030\n",
      "Epoch 30/30\n",
      "18/18 [==============================] - 0s 3ms/step - loss: 3853.9241 - val_loss: 4728.8125\n"
     ]
    },
    {
     "data": {
      "text/plain": [
       "<tensorflow.python.keras.callbacks.History at 0x14ae59d0>"
      ]
     },
     "execution_count": 51,
     "metadata": {},
     "output_type": "execute_result"
    }
   ],
   "source": [
    "nn1 = Sequential()\n",
    "\n",
    "#------ INPUT LAYER ---------#\n",
    "nn1.add(Dense(32, activation = 'relu', input_dim = X1.shape[1]))\n",
    "\n",
    "#------ HIDDEN LAYERS -------#\n",
    "nn1.add(Dense(32, activation='relu'))\n",
    "\n",
    "#------ OUTPUT LAYER ---------#\n",
    "## Here we will not use the activation sigmoid \n",
    "## bcz here is the condiiton is for REGRESSION \n",
    "## By DEFAULT it will use the relu\n",
    "\n",
    "nn1.add(Dense(1))\n",
    "\n",
    "#------ COMPILE ---------#\n",
    "nn1.compile(loss='mean_squared_error')\n",
    "\n",
    "\n",
    "#------ FIT --------#\n",
    "nn1.fit(X1, Y, validation_split=0.2, epochs = 30)"
   ]
  },
  {
   "cell_type": "code",
   "execution_count": 52,
   "id": "5f9ca942",
   "metadata": {},
   "outputs": [
    {
     "name": "stdout",
     "output_type": "stream",
     "text": [
      "Epoch 1/30\n",
      " 1/18 [>.............................] - ETA: 0s - loss: 349.9415WARNING:tensorflow:Callbacks method `on_test_batch_end` is slow compared to the batch time (batch time: 0.0000s vs `on_test_batch_end` time: 0.0010s). Check your callbacks.\n",
      "18/18 [==============================] - 0s 13ms/step - loss: 339.1071 - val_loss: 337.1998\n",
      "Epoch 2/30\n",
      "18/18 [==============================] - 0s 4ms/step - loss: 337.8699 - val_loss: 335.7308\n",
      "Epoch 3/30\n",
      "18/18 [==============================] - 0s 3ms/step - loss: 336.0323 - val_loss: 333.5036\n",
      "Epoch 4/30\n",
      "18/18 [==============================] - 0s 3ms/step - loss: 333.2508 - val_loss: 330.1856\n",
      "Epoch 5/30\n",
      "18/18 [==============================] - 0s 3ms/step - loss: 329.2614 - val_loss: 325.6208\n",
      "Epoch 6/30\n",
      "18/18 [==============================] - 0s 3ms/step - loss: 323.9657 - val_loss: 319.6492\n",
      "Epoch 7/30\n",
      "18/18 [==============================] - 0s 3ms/step - loss: 317.1874 - val_loss: 312.1094\n",
      "Epoch 8/30\n",
      "18/18 [==============================] - 0s 3ms/step - loss: 308.7467 - val_loss: 302.8516\n",
      "Epoch 9/30\n",
      "18/18 [==============================] - 0s 3ms/step - loss: 298.4476 - val_loss: 291.7820\n",
      "Epoch 10/30\n",
      "18/18 [==============================] - 0s 3ms/step - loss: 286.1490 - val_loss: 278.7322\n",
      "Epoch 11/30\n",
      "18/18 [==============================] - 0s 3ms/step - loss: 271.8402 - val_loss: 263.5820\n",
      "Epoch 12/30\n",
      "18/18 [==============================] - 0s 3ms/step - loss: 255.3936 - val_loss: 246.5051\n",
      "Epoch 13/30\n",
      "18/18 [==============================] - 0s 3ms/step - loss: 236.8578 - val_loss: 227.3510\n",
      "Epoch 14/30\n",
      "18/18 [==============================] - 0s 3ms/step - loss: 216.0458 - val_loss: 206.1278\n",
      "Epoch 15/30\n",
      "18/18 [==============================] - 0s 3ms/step - loss: 192.8692 - val_loss: 182.3310\n",
      "Epoch 16/30\n",
      "18/18 [==============================] - 0s 3ms/step - loss: 167.8122 - val_loss: 158.1122\n",
      "Epoch 17/30\n",
      "18/18 [==============================] - 0s 3ms/step - loss: 143.3779 - val_loss: 132.9990\n",
      "Epoch 18/30\n",
      "18/18 [==============================] - 0s 3ms/step - loss: 116.7542 - val_loss: 104.2807\n",
      "Epoch 19/30\n",
      "18/18 [==============================] - 0s 4ms/step - loss: 87.9384 - val_loss: 73.8957\n",
      "Epoch 20/30\n",
      "18/18 [==============================] - 0s 3ms/step - loss: 57.0645 - val_loss: 43.5022\n",
      "Epoch 21/30\n",
      "18/18 [==============================] - 0s 3ms/step - loss: 31.5756 - val_loss: 31.0966\n",
      "Epoch 22/30\n",
      "18/18 [==============================] - 0s 3ms/step - loss: 27.8172 - val_loss: 29.5022\n",
      "Epoch 23/30\n",
      "18/18 [==============================] - 0s 4ms/step - loss: 26.9014 - val_loss: 28.5656\n",
      "Epoch 24/30\n",
      "18/18 [==============================] - 0s 4ms/step - loss: 25.9383 - val_loss: 27.1956\n",
      "Epoch 25/30\n",
      "18/18 [==============================] - 0s 4ms/step - loss: 25.2985 - val_loss: 26.3403\n",
      "Epoch 26/30\n",
      "18/18 [==============================] - 0s 4ms/step - loss: 24.9907 - val_loss: 26.3719\n",
      "Epoch 27/30\n",
      "18/18 [==============================] - 0s 4ms/step - loss: 24.5638 - val_loss: 26.0007\n",
      "Epoch 28/30\n",
      "18/18 [==============================] - 0s 3ms/step - loss: 24.4347 - val_loss: 25.9479\n",
      "Epoch 29/30\n",
      "18/18 [==============================] - 0s 3ms/step - loss: 24.3576 - val_loss: 25.2366\n",
      "Epoch 30/30\n",
      "18/18 [==============================] - 0s 3ms/step - loss: 24.2957 - val_loss: 24.5486\n"
     ]
    },
    {
     "data": {
      "text/plain": [
       "<tensorflow.python.keras.callbacks.History at 0x152d4bb0>"
      ]
     },
     "execution_count": 52,
     "metadata": {},
     "output_type": "execute_result"
    }
   ],
   "source": [
    "nn1 = Sequential()\n",
    "\n",
    "#------ INPUT LAYER ---------#\n",
    "nn1.add(Dense(32, activation = 'relu', input_dim = X1.shape[1]))\n",
    "\n",
    "#------ HIDDEN LAYERS -------#\n",
    "nn1.add(Dense(32, activation='relu'))\n",
    "\n",
    "#------ OUTPUT LAYER ---------#\n",
    "## Here we will not use the activation sigmoid \n",
    "## bcz here is the condiiton is for REGRESSION \n",
    "## By DEFAULT it will use the relu\n",
    "\n",
    "nn1.add(Dense(1))\n",
    "\n",
    "#------ COMPILE ---------#\n",
    "nn1.compile(loss='mean_absolute_error')\n",
    "\n",
    "\n",
    "#------ FIT --------#\n",
    "nn1.fit(X1, Y, validation_split=0.2, epochs = 30)"
   ]
  },
  {
   "cell_type": "markdown",
   "id": "45150e88",
   "metadata": {},
   "source": [
    "# Prepare Data FOr  Prediction\n",
    "## So here we will see our Testing Data"
   ]
  },
  {
   "cell_type": "code",
   "execution_count": 80,
   "id": "26e14301",
   "metadata": {},
   "outputs": [],
   "source": [
    "B1 = B[(B.Predicted_loan_Status == 'N')]\n",
    "replacer(B1)"
   ]
  },
  {
   "cell_type": "markdown",
   "id": "371696ca",
   "metadata": {},
   "source": [
    "#### The person who is not eligible for which amount to apply.\n",
    "#### SO we will predict how much amount of loan is possible to provide by bank."
   ]
  },
  {
   "cell_type": "code",
   "execution_count": 81,
   "id": "14206ab2",
   "metadata": {
    "scrolled": true
   },
   "outputs": [
    {
     "name": "stdout",
     "output_type": "stream",
     "text": [
      "========Nan Values========== \n",
      " \n",
      " Loan_ID                  0\n",
      "Gender                   0\n",
      "Married                  0\n",
      "Dependents               0\n",
      "Education                0\n",
      "Self_Employed            0\n",
      "ApplicantIncome          0\n",
      "CoapplicantIncome        0\n",
      "LoanAmount               0\n",
      "Loan_Amount_Term         0\n",
      "Credit_History           0\n",
      "Property_Area            0\n",
      "Predicted_loan_Status    0\n",
      "dtype: int64\n",
      "========Null Values========== \n",
      " \n",
      " Loan_ID                  0\n",
      "Gender                   0\n",
      "Married                  0\n",
      "Dependents               0\n",
      "Education                0\n",
      "Self_Employed            0\n",
      "ApplicantIncome          0\n",
      "CoapplicantIncome        0\n",
      "LoanAmount               0\n",
      "Loan_Amount_Term         0\n",
      "Credit_History           0\n",
      "Property_Area            0\n",
      "Predicted_loan_Status    0\n",
      "dtype: int64\n"
     ]
    }
   ],
   "source": [
    "print(\"========Nan Values==========\",'\\n','\\n',B1.isna().sum())\n",
    "print(\"========Null Values==========\",'\\n','\\n',B1.isnull().sum())"
   ]
  },
  {
   "cell_type": "code",
   "execution_count": 82,
   "id": "119fd87c",
   "metadata": {},
   "outputs": [],
   "source": [
    "Xnew = B1.drop(['Loan_ID', \"Loan_Amount_Term\"], axis = 1)"
   ]
  },
  {
   "cell_type": "code",
   "execution_count": 83,
   "id": "0a26c50c",
   "metadata": {},
   "outputs": [
    {
     "data": {
      "text/plain": [
       "Index(['Gender', 'Married', 'Dependents', 'Education', 'Self_Employed',\n",
       "       'ApplicantIncome', 'CoapplicantIncome', 'LoanAmount', 'Credit_History',\n",
       "       'Property_Area', 'Predicted_loan_Status'],\n",
       "      dtype='object')"
      ]
     },
     "execution_count": 83,
     "metadata": {},
     "output_type": "execute_result"
    }
   ],
   "source": [
    "Xnew.columns"
   ]
  },
  {
   "cell_type": "code",
   "execution_count": 84,
   "id": "35acf748",
   "metadata": {},
   "outputs": [
    {
     "data": {
      "text/plain": [
       "Index(['Gender', 'Married', 'Dependents', 'Education', 'Self_Employed',\n",
       "       'ApplicantIncome', 'CoapplicantIncome', 'LoanAmount', 'Credit_History',\n",
       "       'Property_Area', 'Loan_Status'],\n",
       "      dtype='object')"
      ]
     },
     "execution_count": 84,
     "metadata": {},
     "output_type": "execute_result"
    }
   ],
   "source": [
    "X.columns"
   ]
  },
  {
   "cell_type": "code",
   "execution_count": 85,
   "id": "1c4ef931",
   "metadata": {},
   "outputs": [],
   "source": [
    "Xnew.columns = X.columns"
   ]
  },
  {
   "cell_type": "code",
   "execution_count": 86,
   "id": "9a8c1c5d",
   "metadata": {},
   "outputs": [
    {
     "data": {
      "text/plain": [
       "Index(['Gender', 'Married', 'Dependents', 'Education', 'Self_Employed',\n",
       "       'ApplicantIncome', 'CoapplicantIncome', 'LoanAmount', 'Credit_History',\n",
       "       'Property_Area', 'Loan_Status'],\n",
       "      dtype='object')"
      ]
     },
     "execution_count": 86,
     "metadata": {},
     "output_type": "execute_result"
    }
   ],
   "source": [
    "Xnew.columns"
   ]
  },
  {
   "cell_type": "markdown",
   "id": "020c970e",
   "metadata": {},
   "source": [
    "# We are doing reindexing because if we didnot do the reindexing then of the imbalanced indexing it will give u error"
   ]
  },
  {
   "cell_type": "code",
   "execution_count": 87,
   "id": "6e1b94ee",
   "metadata": {},
   "outputs": [
    {
     "data": {
      "text/plain": [
       "Int64Index([  7,  13,  18,  24,  25,  35,  55,  58,  63,  66,  67,  69,  79,\n",
       "             80,  81,  82,  83,  84,  89,  94,  96, 101, 106, 117, 118, 119,\n",
       "            123, 124, 126, 140, 142, 143, 147, 153, 161, 165, 166, 168, 173,\n",
       "            174, 183, 192, 193, 196, 198, 200, 211, 217, 222, 224, 229, 235,\n",
       "            239, 240, 241, 243, 245, 250, 255, 256, 259, 263, 266, 268, 271,\n",
       "            273, 274, 278, 283, 284, 293, 301, 311, 316, 317, 318, 332, 339,\n",
       "            346, 354],\n",
       "           dtype='int64')"
      ]
     },
     "execution_count": 87,
     "metadata": {},
     "output_type": "execute_result"
    }
   ],
   "source": [
    "Xnew.index "
   ]
  },
  {
   "cell_type": "code",
   "execution_count": 88,
   "id": "1fa5d469",
   "metadata": {},
   "outputs": [
    {
     "data": {
      "text/plain": [
       "(80, 11)"
      ]
     },
     "execution_count": 88,
     "metadata": {},
     "output_type": "execute_result"
    }
   ],
   "source": [
    "Xnew.shape"
   ]
  },
  {
   "cell_type": "code",
   "execution_count": 89,
   "id": "fe9f4576",
   "metadata": {},
   "outputs": [],
   "source": [
    "Xnew.index = range(0,80,1)"
   ]
  },
  {
   "cell_type": "code",
   "execution_count": 90,
   "id": "b5778f81",
   "metadata": {},
   "outputs": [],
   "source": [
    "Xpred = preprocessing(Xnew)\n"
   ]
  },
  {
   "cell_type": "code",
   "execution_count": 91,
   "id": "225aabb4",
   "metadata": {},
   "outputs": [],
   "source": [
    "Xpred.columns = X1.columns"
   ]
  },
  {
   "cell_type": "markdown",
   "id": "c88f3150",
   "metadata": {},
   "source": [
    "## Predictions For LoanAmount"
   ]
  },
  {
   "cell_type": "code",
   "execution_count": 92,
   "id": "80cd3cba",
   "metadata": {},
   "outputs": [],
   "source": [
    "pred = nn1.predict(Xpred)"
   ]
  },
  {
   "cell_type": "code",
   "execution_count": 93,
   "id": "9b7b0c82",
   "metadata": {},
   "outputs": [
    {
     "data": {
      "text/plain": [
       "array([[356.75192],\n",
       "       [354.79507],\n",
       "       [363.5546 ],\n",
       "       [365.5253 ],\n",
       "       [356.0296 ],\n",
       "       [357.86316],\n",
       "       [356.88556],\n",
       "       [357.08362],\n",
       "       [357.1919 ],\n",
       "       [356.28516],\n",
       "       [357.01953],\n",
       "       [357.06323],\n",
       "       [364.58743],\n",
       "       [356.11725],\n",
       "       [354.58655],\n",
       "       [356.70822],\n",
       "       [365.8542 ],\n",
       "       [356.73257],\n",
       "       [366.26468],\n",
       "       [355.4429 ],\n",
       "       [365.17636],\n",
       "       [357.8032 ],\n",
       "       [356.56024],\n",
       "       [355.72748],\n",
       "       [356.3395 ],\n",
       "       [358.24265],\n",
       "       [356.66916],\n",
       "       [357.05243],\n",
       "       [354.79214],\n",
       "       [357.18362],\n",
       "       [354.55432],\n",
       "       [363.96432],\n",
       "       [356.77448],\n",
       "       [355.1983 ],\n",
       "       [356.40924],\n",
       "       [357.58948],\n",
       "       [356.00534],\n",
       "       [355.76843],\n",
       "       [356.48746],\n",
       "       [356.2682 ],\n",
       "       [364.58432],\n",
       "       [356.50964],\n",
       "       [355.76895],\n",
       "       [355.89014],\n",
       "       [356.13016],\n",
       "       [363.75177],\n",
       "       [357.15253],\n",
       "       [364.6923 ],\n",
       "       [364.02502],\n",
       "       [357.8767 ],\n",
       "       [354.95624],\n",
       "       [357.02206],\n",
       "       [364.34888],\n",
       "       [364.29285],\n",
       "       [356.05334],\n",
       "       [356.95416],\n",
       "       [356.54782],\n",
       "       [356.13464],\n",
       "       [357.3014 ],\n",
       "       [365.2154 ],\n",
       "       [362.16876],\n",
       "       [361.89734],\n",
       "       [355.3005 ],\n",
       "       [354.7886 ],\n",
       "       [366.30615],\n",
       "       [356.03378],\n",
       "       [356.7406 ],\n",
       "       [356.34583],\n",
       "       [363.39948],\n",
       "       [365.03326],\n",
       "       [356.11884],\n",
       "       [355.27658],\n",
       "       [356.12015],\n",
       "       [365.18423],\n",
       "       [354.91748],\n",
       "       [365.17828],\n",
       "       [363.9972 ],\n",
       "       [357.1758 ],\n",
       "       [356.75668],\n",
       "       [355.7475 ]], dtype=float32)"
      ]
     },
     "execution_count": 93,
     "metadata": {},
     "output_type": "execute_result"
    }
   ],
   "source": [
    "pred"
   ]
  },
  {
   "cell_type": "code",
   "execution_count": null,
   "id": "ada41c68",
   "metadata": {},
   "outputs": [],
   "source": []
  }
 ],
 "metadata": {
  "kernelspec": {
   "display_name": "Python 3 (ipykernel)",
   "language": "python",
   "name": "python3"
  },
  "language_info": {
   "codemirror_mode": {
    "name": "ipython",
    "version": 3
   },
   "file_extension": ".py",
   "mimetype": "text/x-python",
   "name": "python",
   "nbconvert_exporter": "python",
   "pygments_lexer": "ipython3",
   "version": "3.8.12"
  }
 },
 "nbformat": 4,
 "nbformat_minor": 5
}
